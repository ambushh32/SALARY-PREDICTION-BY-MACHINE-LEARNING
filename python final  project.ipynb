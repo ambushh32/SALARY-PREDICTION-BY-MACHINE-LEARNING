{
 "cells": [
  {
   "cell_type": "markdown",
   "id": "3df0ecb2",
   "metadata": {},
   "source": [
    "## Importing Libraries\n",
    "   Python has a rich ecosystem of libraries and frameworks that        cover a wide range of domains, making it a versatile             programming language. Here are some commonly used libraries in     Python, categorized by their primary functions:\n",
    "\n",
    "* Data Science and Machine Learning:\n",
    "\n",
    "       NumPy: Provides support for large, multi-dimensional arrays and matrices, along with mathematical functions.\n",
    "       pandas: Offers data structures like DataFrame for data manipulation and analysis.\n",
    "      scikit-learn: A machine learning library with tools for        classification, regression, clustering, and more.\n",
    "      TensorFlow and PyTorch: Popular deep learning libraries for    building and training neural networks.\n",
    "\n",
    "\n",
    "  * Web Development:\n",
    "\n",
    "   Flask: A lightweight web framework for building web applications.\n",
    "   Django: A high-level web framework that encourages rapid development and clean, pragmatic design.\n",
    "   FastAPI: A modern, fast web framework for building APIs with Python 3.7+.\n",
    "   \n",
    "  * GUI Development:\n",
    "\n",
    "  Tkinter: The standard GUI toolkit for Python, included with most Python installations.\n",
    "  PyQt and PySide: Python bindings for the Qt application framework.\n",
    "\n",
    "   * Data Visualization:\n",
    "\n",
    "   Matplotlib: A 2D plotting library for creating static, animated, and interactive visualizations.\n",
    "   Seaborn: Built on top of Matplotlib, it provides a high-level interface for drawing attractive statistical graphics.\n",
    "  Plotly: A graphing library that makes interactive, publication-quality graphs online."
   ]
  },
  {
   "cell_type": "code",
   "execution_count": 142,
   "id": "2f4fc04e",
   "metadata": {},
   "outputs": [],
   "source": [
    "import numpy as np \n",
    "import pandas as pd\n",
    "import seaborn as sns"
   ]
  },
  {
   "cell_type": "markdown",
   "id": "e1178a86",
   "metadata": {},
   "source": [
    "## Data Collection"
   ]
  },
  {
   "cell_type": "code",
   "execution_count": 143,
   "id": "e4332642",
   "metadata": {},
   "outputs": [],
   "source": [
    "df= pd.read_csv('G:/PYTHON/ML case Study.csv',header=0)  \n",
    "# here importing main case study file into data frame df\n",
    "#Setting header=0 means that the first row of the CSV file (index 0) contains the column names, and pandas should use that row as the header"
   ]
  },
  {
   "cell_type": "code",
   "execution_count": 144,
   "id": "93ebb0bd",
   "metadata": {},
   "outputs": [],
   "source": [
    "#importing college file to colleges having tier list of various colleges\n",
    "colleges = pd.read_csv('G:/PYTHON/Colleges.csv',header=0)"
   ]
  },
  {
   "cell_type": "code",
   "execution_count": 145,
   "id": "b7f7b932",
   "metadata": {},
   "outputs": [],
   "source": [
    "# import cities file having tier of cities\n",
    "cities = pd.read_csv('G:/PYTHON/cities.csv',header=0)"
   ]
  },
  {
   "cell_type": "markdown",
   "id": "b9324f5d",
   "metadata": {},
   "source": [
    "## Data Processing"
   ]
  },
  {
   "cell_type": "code",
   "execution_count": 146,
   "id": "3b8ac563",
   "metadata": {
    "scrolled": true
   },
   "outputs": [
    {
     "data": {
      "text/html": [
       "<div>\n",
       "<style scoped>\n",
       "    .dataframe tbody tr th:only-of-type {\n",
       "        vertical-align: middle;\n",
       "    }\n",
       "\n",
       "    .dataframe tbody tr th {\n",
       "        vertical-align: top;\n",
       "    }\n",
       "\n",
       "    .dataframe thead th {\n",
       "        text-align: right;\n",
       "    }\n",
       "</style>\n",
       "<table border=\"1\" class=\"dataframe\">\n",
       "  <thead>\n",
       "    <tr style=\"text-align: right;\">\n",
       "      <th></th>\n",
       "      <th>College</th>\n",
       "      <th>City</th>\n",
       "      <th>Role</th>\n",
       "      <th>Previous CTC</th>\n",
       "      <th>Previous job change</th>\n",
       "      <th>Graduation Marks</th>\n",
       "      <th>EXP (Month)</th>\n",
       "      <th>CTC</th>\n",
       "    </tr>\n",
       "  </thead>\n",
       "  <tbody>\n",
       "    <tr>\n",
       "      <th>0</th>\n",
       "      <td>SVNIT Surat</td>\n",
       "      <td>Asansol</td>\n",
       "      <td>Manager</td>\n",
       "      <td>55523.0</td>\n",
       "      <td>3</td>\n",
       "      <td>66</td>\n",
       "      <td>19</td>\n",
       "      <td>71406.58</td>\n",
       "    </tr>\n",
       "    <tr>\n",
       "      <th>1</th>\n",
       "      <td>NIT Bhopal</td>\n",
       "      <td>Ajmer</td>\n",
       "      <td>Executive</td>\n",
       "      <td>57081.0</td>\n",
       "      <td>1</td>\n",
       "      <td>84</td>\n",
       "      <td>18</td>\n",
       "      <td>68005.87</td>\n",
       "    </tr>\n",
       "    <tr>\n",
       "      <th>2</th>\n",
       "      <td>IEM, Kolkata</td>\n",
       "      <td>Rajpur Sonarpur</td>\n",
       "      <td>Executive</td>\n",
       "      <td>60347.0</td>\n",
       "      <td>2</td>\n",
       "      <td>52</td>\n",
       "      <td>28</td>\n",
       "      <td>76764.02</td>\n",
       "    </tr>\n",
       "    <tr>\n",
       "      <th>3</th>\n",
       "      <td>KIIT, Bhubaneswar</td>\n",
       "      <td>Ajmer</td>\n",
       "      <td>Executive</td>\n",
       "      <td>49010.0</td>\n",
       "      <td>2</td>\n",
       "      <td>81</td>\n",
       "      <td>33</td>\n",
       "      <td>82092.39</td>\n",
       "    </tr>\n",
       "    <tr>\n",
       "      <th>4</th>\n",
       "      <td>DTU</td>\n",
       "      <td>Durgapur</td>\n",
       "      <td>Executive</td>\n",
       "      <td>57879.0</td>\n",
       "      <td>4</td>\n",
       "      <td>74</td>\n",
       "      <td>32</td>\n",
       "      <td>73878.10</td>\n",
       "    </tr>\n",
       "  </tbody>\n",
       "</table>\n",
       "</div>"
      ],
      "text/plain": [
       "             College             City       Role  Previous CTC  \\\n",
       "0        SVNIT Surat          Asansol    Manager       55523.0   \n",
       "1         NIT Bhopal            Ajmer  Executive       57081.0   \n",
       "2       IEM, Kolkata  Rajpur Sonarpur  Executive       60347.0   \n",
       "3  KIIT, Bhubaneswar            Ajmer  Executive       49010.0   \n",
       "4                DTU         Durgapur  Executive       57879.0   \n",
       "\n",
       "   Previous job change  Graduation Marks  EXP (Month)       CTC  \n",
       "0                    3                66           19  71406.58  \n",
       "1                    1                84           18  68005.87  \n",
       "2                    2                52           28  76764.02  \n",
       "3                    2                81           33  82092.39  \n",
       "4                    4                74           32  73878.10  "
      ]
     },
     "execution_count": 146,
     "metadata": {},
     "output_type": "execute_result"
    }
   ],
   "source": [
    "df.head()\n",
    "#The head() method in pandas is used to display the first 5 rows of a DataFrame by default"
   ]
  },
  {
   "cell_type": "markdown",
   "id": "3efe0275",
   "metadata": {},
   "source": [
    "Here label encoding is used to convert categorical foramt  numerical formats"
   ]
  },
  {
   "cell_type": "code",
   "execution_count": 147,
   "id": "d55b34e1",
   "metadata": {},
   "outputs": [],
   "source": [
    "# teir lists of colleges\n",
    "Tier1 = colleges[\"Tier 1\"].tolist()\n",
    "Tier2 = colleges[\"Tier 2\"].tolist()\n",
    "Tier3 = colleges[\"Tier 3\"].tolist()"
   ]
  },
  {
   "cell_type": "code",
   "execution_count": 148,
   "id": "bd57531b",
   "metadata": {},
   "outputs": [],
   "source": [
    "#label encoding \n",
    "df['College'] = df['College'].map({college: 1 for college in Tier1} \n",
    "                                | {college: 2 for college in Tier2} \n",
    "                                | {college: 3 for college in Tier3})"
   ]
  },
  {
   "cell_type": "code",
   "execution_count": 149,
   "id": "c3ea4913",
   "metadata": {},
   "outputs": [],
   "source": [
    "#creating cities list on the basis of metro and nonmetro city\n",
    "metro_city = cities[\"Metrio City\"].tolist()\n",
    "non_metro_city = cities[\"non-metro cities\"].tolist()"
   ]
  },
  {
   "cell_type": "code",
   "execution_count": 150,
   "id": "c96723a0",
   "metadata": {},
   "outputs": [],
   "source": [
    "# label encoding\n",
    "city_mapping = {city: 1 for city in metro_city}\n",
    "city_mapping.update({city: 0 for city in non_metro_city})\n",
    "\n",
    "df['City'] = df['City'].map(city_mapping)\n"
   ]
  },
  {
   "cell_type": "code",
   "execution_count": 151,
   "id": "7016cba1",
   "metadata": {},
   "outputs": [
    {
     "data": {
      "text/html": [
       "<div>\n",
       "<style scoped>\n",
       "    .dataframe tbody tr th:only-of-type {\n",
       "        vertical-align: middle;\n",
       "    }\n",
       "\n",
       "    .dataframe tbody tr th {\n",
       "        vertical-align: top;\n",
       "    }\n",
       "\n",
       "    .dataframe thead th {\n",
       "        text-align: right;\n",
       "    }\n",
       "</style>\n",
       "<table border=\"1\" class=\"dataframe\">\n",
       "  <thead>\n",
       "    <tr style=\"text-align: right;\">\n",
       "      <th></th>\n",
       "      <th>College</th>\n",
       "      <th>City</th>\n",
       "      <th>Role</th>\n",
       "      <th>Previous CTC</th>\n",
       "      <th>Previous job change</th>\n",
       "      <th>Graduation Marks</th>\n",
       "      <th>EXP (Month)</th>\n",
       "      <th>CTC</th>\n",
       "    </tr>\n",
       "  </thead>\n",
       "  <tbody>\n",
       "    <tr>\n",
       "      <th>0</th>\n",
       "      <td>2</td>\n",
       "      <td>0</td>\n",
       "      <td>Manager</td>\n",
       "      <td>55523.0</td>\n",
       "      <td>3</td>\n",
       "      <td>66</td>\n",
       "      <td>19</td>\n",
       "      <td>71406.58</td>\n",
       "    </tr>\n",
       "    <tr>\n",
       "      <th>1</th>\n",
       "      <td>2</td>\n",
       "      <td>0</td>\n",
       "      <td>Executive</td>\n",
       "      <td>57081.0</td>\n",
       "      <td>1</td>\n",
       "      <td>84</td>\n",
       "      <td>18</td>\n",
       "      <td>68005.87</td>\n",
       "    </tr>\n",
       "    <tr>\n",
       "      <th>2</th>\n",
       "      <td>3</td>\n",
       "      <td>0</td>\n",
       "      <td>Executive</td>\n",
       "      <td>60347.0</td>\n",
       "      <td>2</td>\n",
       "      <td>52</td>\n",
       "      <td>28</td>\n",
       "      <td>76764.02</td>\n",
       "    </tr>\n",
       "    <tr>\n",
       "      <th>3</th>\n",
       "      <td>3</td>\n",
       "      <td>0</td>\n",
       "      <td>Executive</td>\n",
       "      <td>49010.0</td>\n",
       "      <td>2</td>\n",
       "      <td>81</td>\n",
       "      <td>33</td>\n",
       "      <td>82092.39</td>\n",
       "    </tr>\n",
       "    <tr>\n",
       "      <th>4</th>\n",
       "      <td>1</td>\n",
       "      <td>0</td>\n",
       "      <td>Executive</td>\n",
       "      <td>57879.0</td>\n",
       "      <td>4</td>\n",
       "      <td>74</td>\n",
       "      <td>32</td>\n",
       "      <td>73878.10</td>\n",
       "    </tr>\n",
       "  </tbody>\n",
       "</table>\n",
       "</div>"
      ],
      "text/plain": [
       "   College  City       Role  Previous CTC  Previous job change  \\\n",
       "0        2     0    Manager       55523.0                    3   \n",
       "1        2     0  Executive       57081.0                    1   \n",
       "2        3     0  Executive       60347.0                    2   \n",
       "3        3     0  Executive       49010.0                    2   \n",
       "4        1     0  Executive       57879.0                    4   \n",
       "\n",
       "   Graduation Marks  EXP (Month)       CTC  \n",
       "0                66           19  71406.58  \n",
       "1                84           18  68005.87  \n",
       "2                52           28  76764.02  \n",
       "3                81           33  82092.39  \n",
       "4                74           32  73878.10  "
      ]
     },
     "execution_count": 151,
     "metadata": {},
     "output_type": "execute_result"
    }
   ],
   "source": [
    "df.head()"
   ]
  },
  {
   "cell_type": "markdown",
   "id": "a8a6448b",
   "metadata": {},
   "source": [
    "##### creating dummy variable\n",
    "Dummy variables are created to represent categorical data numerically, enabling machine learning models to process and analyze such data effectively."
   ]
  },
  {
   "cell_type": "code",
   "execution_count": 152,
   "id": "6dc70659",
   "metadata": {},
   "outputs": [],
   "source": [
    "\n",
    "df = pd.get_dummies(df, columns=['Role'], drop_first=True)"
   ]
  },
  {
   "cell_type": "code",
   "execution_count": 153,
   "id": "d00cb3d4",
   "metadata": {},
   "outputs": [
    {
     "data": {
      "text/html": [
       "<div>\n",
       "<style scoped>\n",
       "    .dataframe tbody tr th:only-of-type {\n",
       "        vertical-align: middle;\n",
       "    }\n",
       "\n",
       "    .dataframe tbody tr th {\n",
       "        vertical-align: top;\n",
       "    }\n",
       "\n",
       "    .dataframe thead th {\n",
       "        text-align: right;\n",
       "    }\n",
       "</style>\n",
       "<table border=\"1\" class=\"dataframe\">\n",
       "  <thead>\n",
       "    <tr style=\"text-align: right;\">\n",
       "      <th></th>\n",
       "      <th>College</th>\n",
       "      <th>City</th>\n",
       "      <th>Previous CTC</th>\n",
       "      <th>Previous job change</th>\n",
       "      <th>Graduation Marks</th>\n",
       "      <th>EXP (Month)</th>\n",
       "      <th>CTC</th>\n",
       "      <th>Role_Manager</th>\n",
       "    </tr>\n",
       "  </thead>\n",
       "  <tbody>\n",
       "    <tr>\n",
       "      <th>0</th>\n",
       "      <td>2</td>\n",
       "      <td>0</td>\n",
       "      <td>55523.0</td>\n",
       "      <td>3</td>\n",
       "      <td>66</td>\n",
       "      <td>19</td>\n",
       "      <td>71406.58</td>\n",
       "      <td>True</td>\n",
       "    </tr>\n",
       "    <tr>\n",
       "      <th>1</th>\n",
       "      <td>2</td>\n",
       "      <td>0</td>\n",
       "      <td>57081.0</td>\n",
       "      <td>1</td>\n",
       "      <td>84</td>\n",
       "      <td>18</td>\n",
       "      <td>68005.87</td>\n",
       "      <td>False</td>\n",
       "    </tr>\n",
       "    <tr>\n",
       "      <th>2</th>\n",
       "      <td>3</td>\n",
       "      <td>0</td>\n",
       "      <td>60347.0</td>\n",
       "      <td>2</td>\n",
       "      <td>52</td>\n",
       "      <td>28</td>\n",
       "      <td>76764.02</td>\n",
       "      <td>False</td>\n",
       "    </tr>\n",
       "    <tr>\n",
       "      <th>3</th>\n",
       "      <td>3</td>\n",
       "      <td>0</td>\n",
       "      <td>49010.0</td>\n",
       "      <td>2</td>\n",
       "      <td>81</td>\n",
       "      <td>33</td>\n",
       "      <td>82092.39</td>\n",
       "      <td>False</td>\n",
       "    </tr>\n",
       "    <tr>\n",
       "      <th>4</th>\n",
       "      <td>1</td>\n",
       "      <td>0</td>\n",
       "      <td>57879.0</td>\n",
       "      <td>4</td>\n",
       "      <td>74</td>\n",
       "      <td>32</td>\n",
       "      <td>73878.10</td>\n",
       "      <td>False</td>\n",
       "    </tr>\n",
       "  </tbody>\n",
       "</table>\n",
       "</div>"
      ],
      "text/plain": [
       "   College  City  Previous CTC  Previous job change  Graduation Marks  \\\n",
       "0        2     0       55523.0                    3                66   \n",
       "1        2     0       57081.0                    1                84   \n",
       "2        3     0       60347.0                    2                52   \n",
       "3        3     0       49010.0                    2                81   \n",
       "4        1     0       57879.0                    4                74   \n",
       "\n",
       "   EXP (Month)       CTC  Role_Manager  \n",
       "0           19  71406.58          True  \n",
       "1           18  68005.87         False  \n",
       "2           28  76764.02         False  \n",
       "3           33  82092.39         False  \n",
       "4           32  73878.10         False  "
      ]
     },
     "execution_count": 153,
     "metadata": {},
     "output_type": "execute_result"
    }
   ],
   "source": [
    "df.head()"
   ]
  },
  {
   "cell_type": "code",
   "execution_count": 154,
   "id": "185c10aa",
   "metadata": {},
   "outputs": [],
   "source": [
    "df['Role_Manager'] = df['Role_Manager'].astype(int)"
   ]
  },
  {
   "cell_type": "code",
   "execution_count": 155,
   "id": "15000d3e",
   "metadata": {},
   "outputs": [
    {
     "data": {
      "text/html": [
       "<div>\n",
       "<style scoped>\n",
       "    .dataframe tbody tr th:only-of-type {\n",
       "        vertical-align: middle;\n",
       "    }\n",
       "\n",
       "    .dataframe tbody tr th {\n",
       "        vertical-align: top;\n",
       "    }\n",
       "\n",
       "    .dataframe thead th {\n",
       "        text-align: right;\n",
       "    }\n",
       "</style>\n",
       "<table border=\"1\" class=\"dataframe\">\n",
       "  <thead>\n",
       "    <tr style=\"text-align: right;\">\n",
       "      <th></th>\n",
       "      <th>College</th>\n",
       "      <th>City</th>\n",
       "      <th>Previous CTC</th>\n",
       "      <th>Previous job change</th>\n",
       "      <th>Graduation Marks</th>\n",
       "      <th>EXP (Month)</th>\n",
       "      <th>CTC</th>\n",
       "      <th>Role_Manager</th>\n",
       "    </tr>\n",
       "  </thead>\n",
       "  <tbody>\n",
       "    <tr>\n",
       "      <th>0</th>\n",
       "      <td>2</td>\n",
       "      <td>0</td>\n",
       "      <td>55523.0</td>\n",
       "      <td>3</td>\n",
       "      <td>66</td>\n",
       "      <td>19</td>\n",
       "      <td>71406.58</td>\n",
       "      <td>1</td>\n",
       "    </tr>\n",
       "    <tr>\n",
       "      <th>1</th>\n",
       "      <td>2</td>\n",
       "      <td>0</td>\n",
       "      <td>57081.0</td>\n",
       "      <td>1</td>\n",
       "      <td>84</td>\n",
       "      <td>18</td>\n",
       "      <td>68005.87</td>\n",
       "      <td>0</td>\n",
       "    </tr>\n",
       "    <tr>\n",
       "      <th>2</th>\n",
       "      <td>3</td>\n",
       "      <td>0</td>\n",
       "      <td>60347.0</td>\n",
       "      <td>2</td>\n",
       "      <td>52</td>\n",
       "      <td>28</td>\n",
       "      <td>76764.02</td>\n",
       "      <td>0</td>\n",
       "    </tr>\n",
       "    <tr>\n",
       "      <th>3</th>\n",
       "      <td>3</td>\n",
       "      <td>0</td>\n",
       "      <td>49010.0</td>\n",
       "      <td>2</td>\n",
       "      <td>81</td>\n",
       "      <td>33</td>\n",
       "      <td>82092.39</td>\n",
       "      <td>0</td>\n",
       "    </tr>\n",
       "    <tr>\n",
       "      <th>4</th>\n",
       "      <td>1</td>\n",
       "      <td>0</td>\n",
       "      <td>57879.0</td>\n",
       "      <td>4</td>\n",
       "      <td>74</td>\n",
       "      <td>32</td>\n",
       "      <td>73878.10</td>\n",
       "      <td>0</td>\n",
       "    </tr>\n",
       "  </tbody>\n",
       "</table>\n",
       "</div>"
      ],
      "text/plain": [
       "   College  City  Previous CTC  Previous job change  Graduation Marks  \\\n",
       "0        2     0       55523.0                    3                66   \n",
       "1        2     0       57081.0                    1                84   \n",
       "2        3     0       60347.0                    2                52   \n",
       "3        3     0       49010.0                    2                81   \n",
       "4        1     0       57879.0                    4                74   \n",
       "\n",
       "   EXP (Month)       CTC  Role_Manager  \n",
       "0           19  71406.58             1  \n",
       "1           18  68005.87             0  \n",
       "2           28  76764.02             0  \n",
       "3           33  82092.39             0  \n",
       "4           32  73878.10             0  "
      ]
     },
     "execution_count": 155,
     "metadata": {},
     "output_type": "execute_result"
    }
   ],
   "source": [
    "df.head()"
   ]
  },
  {
   "cell_type": "code",
   "execution_count": null,
   "id": "7428718c",
   "metadata": {},
   "outputs": [],
   "source": []
  },
  {
   "cell_type": "code",
   "execution_count": 156,
   "id": "fb3b7828",
   "metadata": {},
   "outputs": [
    {
     "data": {
      "text/html": [
       "<div>\n",
       "<style scoped>\n",
       "    .dataframe tbody tr th:only-of-type {\n",
       "        vertical-align: middle;\n",
       "    }\n",
       "\n",
       "    .dataframe tbody tr th {\n",
       "        vertical-align: top;\n",
       "    }\n",
       "\n",
       "    .dataframe thead th {\n",
       "        text-align: right;\n",
       "    }\n",
       "</style>\n",
       "<table border=\"1\" class=\"dataframe\">\n",
       "  <thead>\n",
       "    <tr style=\"text-align: right;\">\n",
       "      <th></th>\n",
       "      <th>College</th>\n",
       "      <th>City</th>\n",
       "      <th>Previous CTC</th>\n",
       "      <th>Previous job change</th>\n",
       "      <th>Graduation Marks</th>\n",
       "      <th>EXP (Month)</th>\n",
       "      <th>CTC</th>\n",
       "      <th>Role_Manager</th>\n",
       "    </tr>\n",
       "  </thead>\n",
       "  <tbody>\n",
       "    <tr>\n",
       "      <th>count</th>\n",
       "      <td>1589.000000</td>\n",
       "      <td>1589.000000</td>\n",
       "      <td>1589.000000</td>\n",
       "      <td>1589.000000</td>\n",
       "      <td>1589.000000</td>\n",
       "      <td>1589.000000</td>\n",
       "      <td>1589.000000</td>\n",
       "      <td>1589.000000</td>\n",
       "    </tr>\n",
       "    <tr>\n",
       "      <th>mean</th>\n",
       "      <td>1.975456</td>\n",
       "      <td>0.514160</td>\n",
       "      <td>55518.453744</td>\n",
       "      <td>2.528634</td>\n",
       "      <td>59.855255</td>\n",
       "      <td>39.044682</td>\n",
       "      <td>75353.278798</td>\n",
       "      <td>0.206419</td>\n",
       "    </tr>\n",
       "    <tr>\n",
       "      <th>std</th>\n",
       "      <td>0.838330</td>\n",
       "      <td>0.499957</td>\n",
       "      <td>6655.218445</td>\n",
       "      <td>1.123918</td>\n",
       "      <td>14.935139</td>\n",
       "      <td>14.108875</td>\n",
       "      <td>12587.288237</td>\n",
       "      <td>0.404862</td>\n",
       "    </tr>\n",
       "    <tr>\n",
       "      <th>min</th>\n",
       "      <td>1.000000</td>\n",
       "      <td>0.000000</td>\n",
       "      <td>36990.000000</td>\n",
       "      <td>1.000000</td>\n",
       "      <td>35.000000</td>\n",
       "      <td>18.000000</td>\n",
       "      <td>53020.320000</td>\n",
       "      <td>0.000000</td>\n",
       "    </tr>\n",
       "    <tr>\n",
       "      <th>25%</th>\n",
       "      <td>1.000000</td>\n",
       "      <td>0.000000</td>\n",
       "      <td>50518.000000</td>\n",
       "      <td>2.000000</td>\n",
       "      <td>46.000000</td>\n",
       "      <td>26.000000</td>\n",
       "      <td>66902.350000</td>\n",
       "      <td>0.000000</td>\n",
       "    </tr>\n",
       "    <tr>\n",
       "      <th>50%</th>\n",
       "      <td>2.000000</td>\n",
       "      <td>1.000000</td>\n",
       "      <td>55291.000000</td>\n",
       "      <td>3.000000</td>\n",
       "      <td>60.000000</td>\n",
       "      <td>39.000000</td>\n",
       "      <td>73028.670000</td>\n",
       "      <td>0.000000</td>\n",
       "    </tr>\n",
       "    <tr>\n",
       "      <th>75%</th>\n",
       "      <td>3.000000</td>\n",
       "      <td>1.000000</td>\n",
       "      <td>60109.000000</td>\n",
       "      <td>4.000000</td>\n",
       "      <td>73.000000</td>\n",
       "      <td>51.000000</td>\n",
       "      <td>80588.670000</td>\n",
       "      <td>0.000000</td>\n",
       "    </tr>\n",
       "    <tr>\n",
       "      <th>max</th>\n",
       "      <td>3.000000</td>\n",
       "      <td>1.000000</td>\n",
       "      <td>77911.000000</td>\n",
       "      <td>4.000000</td>\n",
       "      <td>85.000000</td>\n",
       "      <td>64.000000</td>\n",
       "      <td>123416.990000</td>\n",
       "      <td>1.000000</td>\n",
       "    </tr>\n",
       "  </tbody>\n",
       "</table>\n",
       "</div>"
      ],
      "text/plain": [
       "           College         City  Previous CTC  Previous job change  \\\n",
       "count  1589.000000  1589.000000   1589.000000          1589.000000   \n",
       "mean      1.975456     0.514160  55518.453744             2.528634   \n",
       "std       0.838330     0.499957   6655.218445             1.123918   \n",
       "min       1.000000     0.000000  36990.000000             1.000000   \n",
       "25%       1.000000     0.000000  50518.000000             2.000000   \n",
       "50%       2.000000     1.000000  55291.000000             3.000000   \n",
       "75%       3.000000     1.000000  60109.000000             4.000000   \n",
       "max       3.000000     1.000000  77911.000000             4.000000   \n",
       "\n",
       "       Graduation Marks  EXP (Month)            CTC  Role_Manager  \n",
       "count       1589.000000  1589.000000    1589.000000   1589.000000  \n",
       "mean          59.855255    39.044682   75353.278798      0.206419  \n",
       "std           14.935139    14.108875   12587.288237      0.404862  \n",
       "min           35.000000    18.000000   53020.320000      0.000000  \n",
       "25%           46.000000    26.000000   66902.350000      0.000000  \n",
       "50%           60.000000    39.000000   73028.670000      0.000000  \n",
       "75%           73.000000    51.000000   80588.670000      0.000000  \n",
       "max           85.000000    64.000000  123416.990000      1.000000  "
      ]
     },
     "execution_count": 156,
     "metadata": {},
     "output_type": "execute_result"
    }
   ],
   "source": [
    "df.describe()\n",
    "# in Pandas provides summary statistics (count, mean, std, min, 25%, 50%, 75%, max) for numeric columns in a DataFrame."
   ]
  },
  {
   "cell_type": "code",
   "execution_count": 157,
   "id": "6b4d1d9f",
   "metadata": {},
   "outputs": [
    {
     "name": "stdout",
     "output_type": "stream",
     "text": [
      "<class 'pandas.core.frame.DataFrame'>\n",
      "RangeIndex: 1589 entries, 0 to 1588\n",
      "Data columns (total 8 columns):\n",
      " #   Column               Non-Null Count  Dtype  \n",
      "---  ------               --------------  -----  \n",
      " 0   College              1589 non-null   int64  \n",
      " 1   City                 1589 non-null   int64  \n",
      " 2   Previous CTC         1589 non-null   float64\n",
      " 3   Previous job change  1589 non-null   int64  \n",
      " 4   Graduation Marks     1589 non-null   int64  \n",
      " 5   EXP (Month)          1589 non-null   int64  \n",
      " 6   CTC                  1589 non-null   float64\n",
      " 7   Role_Manager         1589 non-null   int32  \n",
      "dtypes: float64(2), int32(1), int64(5)\n",
      "memory usage: 93.2 KB\n"
     ]
    }
   ],
   "source": [
    "df.info()\n",
    "# in Pandas provides a concise summary of the DataFrame,\n",
    "#including information about the data types, non-null values, and memory usage."
   ]
  },
  {
   "cell_type": "code",
   "execution_count": 158,
   "id": "02ac7bf5",
   "metadata": {
    "scrolled": true
   },
   "outputs": [
    {
     "data": {
      "text/html": [
       "<div>\n",
       "<style scoped>\n",
       "    .dataframe tbody tr th:only-of-type {\n",
       "        vertical-align: middle;\n",
       "    }\n",
       "\n",
       "    .dataframe tbody tr th {\n",
       "        vertical-align: top;\n",
       "    }\n",
       "\n",
       "    .dataframe thead th {\n",
       "        text-align: right;\n",
       "    }\n",
       "</style>\n",
       "<table border=\"1\" class=\"dataframe\">\n",
       "  <thead>\n",
       "    <tr style=\"text-align: right;\">\n",
       "      <th></th>\n",
       "      <th>College</th>\n",
       "      <th>City</th>\n",
       "      <th>Previous CTC</th>\n",
       "      <th>Previous job change</th>\n",
       "      <th>Graduation Marks</th>\n",
       "      <th>EXP (Month)</th>\n",
       "      <th>CTC</th>\n",
       "      <th>Role_Manager</th>\n",
       "    </tr>\n",
       "  </thead>\n",
       "  <tbody>\n",
       "    <tr>\n",
       "      <th>College</th>\n",
       "      <td>1.000000</td>\n",
       "      <td>-0.014946</td>\n",
       "      <td>0.041979</td>\n",
       "      <td>-0.055060</td>\n",
       "      <td>0.003539</td>\n",
       "      <td>0.011752</td>\n",
       "      <td>-0.029592</td>\n",
       "      <td>-0.014749</td>\n",
       "    </tr>\n",
       "    <tr>\n",
       "      <th>City</th>\n",
       "      <td>-0.014946</td>\n",
       "      <td>1.000000</td>\n",
       "      <td>0.004644</td>\n",
       "      <td>0.051670</td>\n",
       "      <td>-0.018616</td>\n",
       "      <td>-0.023613</td>\n",
       "      <td>-0.020365</td>\n",
       "      <td>-0.048671</td>\n",
       "    </tr>\n",
       "    <tr>\n",
       "      <th>Previous CTC</th>\n",
       "      <td>0.041979</td>\n",
       "      <td>0.004644</td>\n",
       "      <td>1.000000</td>\n",
       "      <td>0.005756</td>\n",
       "      <td>-0.032976</td>\n",
       "      <td>0.119163</td>\n",
       "      <td>0.258000</td>\n",
       "      <td>0.012321</td>\n",
       "    </tr>\n",
       "    <tr>\n",
       "      <th>Previous job change</th>\n",
       "      <td>-0.055060</td>\n",
       "      <td>0.051670</td>\n",
       "      <td>0.005756</td>\n",
       "      <td>1.000000</td>\n",
       "      <td>0.019267</td>\n",
       "      <td>0.023488</td>\n",
       "      <td>0.011370</td>\n",
       "      <td>-0.017150</td>\n",
       "    </tr>\n",
       "    <tr>\n",
       "      <th>Graduation Marks</th>\n",
       "      <td>0.003539</td>\n",
       "      <td>-0.018616</td>\n",
       "      <td>-0.032976</td>\n",
       "      <td>0.019267</td>\n",
       "      <td>1.000000</td>\n",
       "      <td>-0.057061</td>\n",
       "      <td>-0.005450</td>\n",
       "      <td>0.017858</td>\n",
       "    </tr>\n",
       "    <tr>\n",
       "      <th>EXP (Month)</th>\n",
       "      <td>0.011752</td>\n",
       "      <td>-0.023613</td>\n",
       "      <td>0.119163</td>\n",
       "      <td>0.023488</td>\n",
       "      <td>-0.057061</td>\n",
       "      <td>1.000000</td>\n",
       "      <td>0.301115</td>\n",
       "      <td>-0.026751</td>\n",
       "    </tr>\n",
       "    <tr>\n",
       "      <th>CTC</th>\n",
       "      <td>-0.029592</td>\n",
       "      <td>-0.020365</td>\n",
       "      <td>0.258000</td>\n",
       "      <td>0.011370</td>\n",
       "      <td>-0.005450</td>\n",
       "      <td>0.301115</td>\n",
       "      <td>1.000000</td>\n",
       "      <td>0.621311</td>\n",
       "    </tr>\n",
       "    <tr>\n",
       "      <th>Role_Manager</th>\n",
       "      <td>-0.014749</td>\n",
       "      <td>-0.048671</td>\n",
       "      <td>0.012321</td>\n",
       "      <td>-0.017150</td>\n",
       "      <td>0.017858</td>\n",
       "      <td>-0.026751</td>\n",
       "      <td>0.621311</td>\n",
       "      <td>1.000000</td>\n",
       "    </tr>\n",
       "  </tbody>\n",
       "</table>\n",
       "</div>"
      ],
      "text/plain": [
       "                      College      City  Previous CTC  Previous job change  \\\n",
       "College              1.000000 -0.014946      0.041979            -0.055060   \n",
       "City                -0.014946  1.000000      0.004644             0.051670   \n",
       "Previous CTC         0.041979  0.004644      1.000000             0.005756   \n",
       "Previous job change -0.055060  0.051670      0.005756             1.000000   \n",
       "Graduation Marks     0.003539 -0.018616     -0.032976             0.019267   \n",
       "EXP (Month)          0.011752 -0.023613      0.119163             0.023488   \n",
       "CTC                 -0.029592 -0.020365      0.258000             0.011370   \n",
       "Role_Manager        -0.014749 -0.048671      0.012321            -0.017150   \n",
       "\n",
       "                     Graduation Marks  EXP (Month)       CTC  Role_Manager  \n",
       "College                      0.003539     0.011752 -0.029592     -0.014749  \n",
       "City                        -0.018616    -0.023613 -0.020365     -0.048671  \n",
       "Previous CTC                -0.032976     0.119163  0.258000      0.012321  \n",
       "Previous job change          0.019267     0.023488  0.011370     -0.017150  \n",
       "Graduation Marks             1.000000    -0.057061 -0.005450      0.017858  \n",
       "EXP (Month)                 -0.057061     1.000000  0.301115     -0.026751  \n",
       "CTC                         -0.005450     0.301115  1.000000      0.621311  \n",
       "Role_Manager                 0.017858    -0.026751  0.621311      1.000000  "
      ]
     },
     "execution_count": 158,
     "metadata": {},
     "output_type": "execute_result"
    }
   ],
   "source": [
    "df.corr()\n",
    "#in Pandas computes the pairwise correlation between numeric columns in a DataFrame,\n",
    "#presenting a correlation matrix."
   ]
  },
  {
   "cell_type": "markdown",
   "id": "b78f7ce8",
   "metadata": {},
   "source": [
    "## Observation:\n",
    "   ##### The correlation analysis reveals a moderate positive relationship (correlation coefficient: 0.301115) between Current Total Compensation (CTC) and Experience in months, suggesting a significant association.\n",
    "\n",
    "   #### Additionally, a substantial positive correlation (correlation coefficient: 0.621311) is observed between CTC and the role of being a manager, indicating a robust positive connection between current salary and managerial roles."
   ]
  },
  {
   "cell_type": "markdown",
   "id": "023129a6",
   "metadata": {},
   "source": [
    "## Checking for outliers and their treatment"
   ]
  },
  {
   "cell_type": "markdown",
   "id": "0cebb1a6",
   "metadata": {},
   "source": [
    "## Outlier Definition:\n",
    "An outlier is an observation in a dataset that significantly deviates from the overall pattern or distribution of the rest of the data. Outliers can distort statistical analyses and machine learning models, impacting their accuracy and reliability.\n",
    "\n",
    "## Treatment of Outliers:\n",
    "\n",
    "### Identification:\n",
    "- Use statistical methods (e.g., Z-scores) or visualizations (e.g., box plots) to identify potential outliers.\n",
    "\n",
    "### Visual Inspection:\n",
    "- Plot the data and visually inspect for any points that appear significantly distant from the majority.\n",
    "\n",
    "### Z-Score Method:\n",
    "- Calculate the Z-score for each data point and consider those with Z-scores beyond a certain threshold (e.g., 3) as potential outliers.\n",
    "\n",
    "### Interquartile Range (IQR) Method:\n",
    "- Use the IQR to define a range within which most data points lie, and identify points outside this range as potential outliers.\n",
    "\n",
    "### Data Transformation:\n",
    "- Apply mathematical transformations (e.g., log transformation) to make the data less sensitive to extreme values.\n",
    "\n",
    "### Winsorizing:\n",
    "- Replace extreme values with the maximum or minimum values within a specified range, reducing the impact of outliers.\n",
    "\n",
    "### Removal:\n",
    "- Remove outliers if they are determined to be errors or if their presence significantly affects the analysis. However, this should be done cautiously to avoid losing valuable information.\n",
    "\n",
    "### Imputation:\n",
    "- Impute or replace outlier values with a measure of central tendency, such as the mean or median.\n",
    "\n",
    "### Robust Models:\n",
    "- Use robust statistical models and machine learning algorithms that are less sensitive to outliers.\n",
    "\n",
    "### Separate Analysis:\n",
    "- Conduct separate analyses with and without outliers to understand their impact on results.\n",
    "\n",
    "## Caution:\n",
    "- The decision to treat or handle outliers depends on the context of the data and the goals of the analysis.\n",
    "- Outlier treatment should be performed with caution, and the rationale for handling outliers should be well-documented.\n",
    "- In some cases, outliers may represent important information or genuine variability in the data, and blindly removing them can lead to biased results.\n"
   ]
  },
  {
   "cell_type": "code",
   "execution_count": 159,
   "id": "23e1bc06",
   "metadata": {},
   "outputs": [
    {
     "data": {
      "text/plain": [
       "<seaborn.axisgrid.JointGrid at 0x21f7064a950>"
      ]
     },
     "execution_count": 159,
     "metadata": {},
     "output_type": "execute_result"
    },
    {
     "data": {
      "image/png": "[encoded data removed]",
      "text/plain": [
       "<Figure size 600x600 with 3 Axes>"
      ]
     },
     "metadata": {},
     "output_type": "display_data"
    }
   ],
   "source": [
    "sns.jointplot(x='Previous CTC', y='CTC', data=df)"
   ]
  },
  {
   "cell_type": "code",
   "execution_count": 160,
   "id": "455f1357",
   "metadata": {},
   "outputs": [
    {
     "data": {
      "text/plain": [
       "<seaborn.axisgrid.JointGrid at 0x21f709bc450>"
      ]
     },
     "execution_count": 160,
     "metadata": {},
     "output_type": "execute_result"
    },
    {
     "data": {
      "image/png": "[encoded data removed]",
      "text/plain": [
       "<Figure size 600x600 with 3 Axes>"
      ]
     },
     "metadata": {},
     "output_type": "display_data"
    }
   ],
   "source": [
    "sns.jointplot(x='EXP (Month)',y='CTC',data=df)"
   ]
  },
  {
   "cell_type": "code",
   "execution_count": 161,
   "id": "29760fc8",
   "metadata": {},
   "outputs": [
    {
     "data": {
      "text/plain": [
       "<seaborn.axisgrid.JointGrid at 0x21f70960e10>"
      ]
     },
     "execution_count": 161,
     "metadata": {},
     "output_type": "execute_result"
    },
    {
     "data": {
      "image/png": "[encoded data removed]",
      "text/plain": [
       "<Figure size 600x600 with 3 Axes>"
      ]
     },
     "metadata": {},
     "output_type": "display_data"
    }
   ],
   "source": [
    "sns.jointplot(x='Graduation Marks',y='CTC',data=df)"
   ]
  },
  {
   "cell_type": "markdown",
   "id": "b9ae5b27",
   "metadata": {},
   "source": [
    "### Observation:\n",
    "* Although the dataset contains some extreme values, no outliers are evident.\n",
    "  - Therefore, there is no requirement for the treatment of outliers.\n"
   ]
  },
  {
   "cell_type": "markdown",
   "id": "7dc1715b",
   "metadata": {},
   "source": [
    "# Data splitting"
   ]
  },
  {
   "cell_type": "markdown",
   "id": "10bd85f4",
   "metadata": {},
   "source": [
    "**Data Splitting:**\n",
    "Data splitting involves dividing a dataset into separate subsets for training and testing machine learning models.\n",
    "\n",
    "**Purpose:**\n",
    "It's done to assess a model's performance on unseen data, preventing overfitting and providing a more accurate evaluation.\n"
   ]
  },
  {
   "cell_type": "code",
   "execution_count": 162,
   "id": "2bd6dca3",
   "metadata": {},
   "outputs": [],
   "source": [
    "x = df.drop(\"CTC\", axis =1)\n",
    "y = df[\"CTC\"]\n",
    "#The drop function in pandas is used to remove specified rows or columns from a DataFrame,\n",
    "#providing a modified DataFrame without altering the original.\n",
    "#Separate the data into independent variables and dependent variables."
   ]
  },
  {
   "cell_type": "code",
   "execution_count": 163,
   "id": "71ac00bb",
   "metadata": {},
   "outputs": [
    {
     "data": {
      "text/html": [
       "<div>\n",
       "<style scoped>\n",
       "    .dataframe tbody tr th:only-of-type {\n",
       "        vertical-align: middle;\n",
       "    }\n",
       "\n",
       "    .dataframe tbody tr th {\n",
       "        vertical-align: top;\n",
       "    }\n",
       "\n",
       "    .dataframe thead th {\n",
       "        text-align: right;\n",
       "    }\n",
       "</style>\n",
       "<table border=\"1\" class=\"dataframe\">\n",
       "  <thead>\n",
       "    <tr style=\"text-align: right;\">\n",
       "      <th></th>\n",
       "      <th>College</th>\n",
       "      <th>City</th>\n",
       "      <th>Previous CTC</th>\n",
       "      <th>Previous job change</th>\n",
       "      <th>Graduation Marks</th>\n",
       "      <th>EXP (Month)</th>\n",
       "      <th>Role_Manager</th>\n",
       "    </tr>\n",
       "  </thead>\n",
       "  <tbody>\n",
       "    <tr>\n",
       "      <th>0</th>\n",
       "      <td>2</td>\n",
       "      <td>0</td>\n",
       "      <td>55523.0</td>\n",
       "      <td>3</td>\n",
       "      <td>66</td>\n",
       "      <td>19</td>\n",
       "      <td>1</td>\n",
       "    </tr>\n",
       "    <tr>\n",
       "      <th>1</th>\n",
       "      <td>2</td>\n",
       "      <td>0</td>\n",
       "      <td>57081.0</td>\n",
       "      <td>1</td>\n",
       "      <td>84</td>\n",
       "      <td>18</td>\n",
       "      <td>0</td>\n",
       "    </tr>\n",
       "    <tr>\n",
       "      <th>2</th>\n",
       "      <td>3</td>\n",
       "      <td>0</td>\n",
       "      <td>60347.0</td>\n",
       "      <td>2</td>\n",
       "      <td>52</td>\n",
       "      <td>28</td>\n",
       "      <td>0</td>\n",
       "    </tr>\n",
       "    <tr>\n",
       "      <th>3</th>\n",
       "      <td>3</td>\n",
       "      <td>0</td>\n",
       "      <td>49010.0</td>\n",
       "      <td>2</td>\n",
       "      <td>81</td>\n",
       "      <td>33</td>\n",
       "      <td>0</td>\n",
       "    </tr>\n",
       "    <tr>\n",
       "      <th>4</th>\n",
       "      <td>1</td>\n",
       "      <td>0</td>\n",
       "      <td>57879.0</td>\n",
       "      <td>4</td>\n",
       "      <td>74</td>\n",
       "      <td>32</td>\n",
       "      <td>0</td>\n",
       "    </tr>\n",
       "  </tbody>\n",
       "</table>\n",
       "</div>"
      ],
      "text/plain": [
       "   College  City  Previous CTC  Previous job change  Graduation Marks  \\\n",
       "0        2     0       55523.0                    3                66   \n",
       "1        2     0       57081.0                    1                84   \n",
       "2        3     0       60347.0                    2                52   \n",
       "3        3     0       49010.0                    2                81   \n",
       "4        1     0       57879.0                    4                74   \n",
       "\n",
       "   EXP (Month)  Role_Manager  \n",
       "0           19             1  \n",
       "1           18             0  \n",
       "2           28             0  \n",
       "3           33             0  \n",
       "4           32             0  "
      ]
     },
     "execution_count": 163,
     "metadata": {},
     "output_type": "execute_result"
    }
   ],
   "source": [
    "x.head()"
   ]
  },
  {
   "cell_type": "markdown",
   "id": "a236e8fd",
   "metadata": {},
   "source": [
    "# Models Selection"
   ]
  },
  {
   "cell_type": "markdown",
   "id": "fdc0dbe3",
   "metadata": {},
   "source": [
    "# Simple linear regression"
   ]
  },
  {
   "cell_type": "code",
   "execution_count": 164,
   "id": "8f2560ae",
   "metadata": {},
   "outputs": [],
   "source": [
    "import statsmodels.api as sm"
   ]
  },
  {
   "cell_type": "code",
   "execution_count": 165,
   "id": "71cf5a6f",
   "metadata": {},
   "outputs": [],
   "source": [
    "#Adding a constant term in statistical models, like linear regression, accounts for the intercept or bias, \n",
    "#providing a baseline prediction when all independent variables are zero.\n",
    "x_cons = sm.add_constant(x)"
   ]
  },
  {
   "cell_type": "code",
   "execution_count": 166,
   "id": "da084cdd",
   "metadata": {},
   "outputs": [],
   "source": [
    "# here fitting the ols in the learning model\n",
    "#OLS (Ordinary Least Squares) in statsmodels is a method for estimating parameters in linear regression \n",
    "#by minimizing the sum of squared differences between observed and predicted values.\n",
    "lm = sm.OLS(y, x_cons).fit()"
   ]
  },
  {
   "cell_type": "markdown",
   "id": "fcc2b399",
   "metadata": {},
   "source": [
    "### Summary function \n",
    "The `summary` function in statistical modeling packages, such as in statsmodels for linear regression, provides a comprehensive summary report containing statistical metrics, coefficients, p-values, and other diagnostic information about the fitted model.\n"
   ]
  },
  {
   "cell_type": "code",
   "execution_count": 167,
   "id": "7da6e69d",
   "metadata": {
    "scrolled": true
   },
   "outputs": [
    {
     "data": {
      "text/html": [
       "<table class=\"simpletable\">\n",
       "<caption>OLS Regression Results</caption>\n",
       "<tr>\n",
       "  <th>Dep. Variable:</th>           <td>CTC</td>       <th>  R-squared:         </th> <td>   0.534</td> \n",
       "</tr>\n",
       "<tr>\n",
       "  <th>Model:</th>                   <td>OLS</td>       <th>  Adj. R-squared:    </th> <td>   0.532</td> \n",
       "</tr>\n",
       "<tr>\n",
       "  <th>Method:</th>             <td>Least Squares</td>  <th>  F-statistic:       </th> <td>   259.1</td> \n",
       "</tr>\n",
       "<tr>\n",
       "  <th>Date:</th>             <td>Wed, 06 Dec 2023</td> <th>  Prob (F-statistic):</th> <td>4.70e-257</td>\n",
       "</tr>\n",
       "<tr>\n",
       "  <th>Time:</th>                 <td>17:16:16</td>     <th>  Log-Likelihood:    </th> <td> -16648.</td> \n",
       "</tr>\n",
       "<tr>\n",
       "  <th>No. Observations:</th>      <td>  1589</td>      <th>  AIC:               </th> <td>3.331e+04</td>\n",
       "</tr>\n",
       "<tr>\n",
       "  <th>Df Residuals:</th>          <td>  1581</td>      <th>  BIC:               </th> <td>3.335e+04</td>\n",
       "</tr>\n",
       "<tr>\n",
       "  <th>Df Model:</th>              <td>     7</td>      <th>                     </th>     <td> </td>    \n",
       "</tr>\n",
       "<tr>\n",
       "  <th>Covariance Type:</th>      <td>nonrobust</td>    <th>                     </th>     <td> </td>    \n",
       "</tr>\n",
       "</table>\n",
       "<table class=\"simpletable\">\n",
       "<tr>\n",
       "           <td></td>              <th>coef</th>     <th>std err</th>      <th>t</th>      <th>P>|t|</th>  <th>[0.025</th>    <th>0.975]</th>  \n",
       "</tr>\n",
       "<tr>\n",
       "  <th>const</th>               <td> 3.842e+04</td> <td> 2192.660</td> <td>   17.523</td> <td> 0.000</td> <td> 3.41e+04</td> <td> 4.27e+04</td>\n",
       "</tr>\n",
       "<tr>\n",
       "  <th>College</th>             <td> -481.5147</td> <td>  258.382</td> <td>   -1.864</td> <td> 0.063</td> <td> -988.321</td> <td>   25.292</td>\n",
       "</tr>\n",
       "<tr>\n",
       "  <th>City</th>                <td>  380.8308</td> <td>  433.455</td> <td>    0.879</td> <td> 0.380</td> <td> -469.377</td> <td> 1231.039</td>\n",
       "</tr>\n",
       "<tr>\n",
       "  <th>Previous CTC</th>        <td>    0.4101</td> <td>    0.033</td> <td>   12.526</td> <td> 0.000</td> <td>    0.346</td> <td>    0.474</td>\n",
       "</tr>\n",
       "<tr>\n",
       "  <th>Previous job change</th> <td>  126.5653</td> <td>  192.887</td> <td>    0.656</td> <td> 0.512</td> <td> -251.776</td> <td>  504.906</td>\n",
       "</tr>\n",
       "<tr>\n",
       "  <th>Graduation Marks</th>    <td>    6.2362</td> <td>   14.502</td> <td>    0.430</td> <td> 0.667</td> <td>  -22.208</td> <td>   34.681</td>\n",
       "</tr>\n",
       "<tr>\n",
       "  <th>EXP (Month)</th>         <td>  261.3444</td> <td>   15.460</td> <td>   16.904</td> <td> 0.000</td> <td>  231.020</td> <td>  291.669</td>\n",
       "</tr>\n",
       "<tr>\n",
       "  <th>Role_Manager</th>        <td> 1.949e+04</td> <td>  534.694</td> <td>   36.446</td> <td> 0.000</td> <td> 1.84e+04</td> <td> 2.05e+04</td>\n",
       "</tr>\n",
       "</table>\n",
       "<table class=\"simpletable\">\n",
       "<tr>\n",
       "  <th>Omnibus:</th>       <td>49.726</td> <th>  Durbin-Watson:     </th> <td>   2.052</td>\n",
       "</tr>\n",
       "<tr>\n",
       "  <th>Prob(Omnibus):</th> <td> 0.000</td> <th>  Jarque-Bera (JB):  </th> <td>  55.299</td>\n",
       "</tr>\n",
       "<tr>\n",
       "  <th>Skew:</th>          <td> 0.408</td> <th>  Prob(JB):          </th> <td>9.82e-13</td>\n",
       "</tr>\n",
       "<tr>\n",
       "  <th>Kurtosis:</th>      <td> 3.411</td> <th>  Cond. No.          </th> <td>5.68e+05</td>\n",
       "</tr>\n",
       "</table><br/><br/>Notes:<br/>[1] Standard Errors assume that the covariance matrix of the errors is correctly specified.<br/>[2] The condition number is large, 5.68e+05. This might indicate that there are<br/>strong multicollinearity or other numerical problems."
      ],
      "text/latex": [
       "\\begin{center}\n",
       "\\begin{tabular}{lclc}\n",
       "\\toprule\n",
       "\\textbf{Dep. Variable:}      &       CTC        & \\textbf{  R-squared:         } &     0.534   \\\\\n",
       "\\textbf{Model:}              &       OLS        & \\textbf{  Adj. R-squared:    } &     0.532   \\\\\n",
       "\\textbf{Method:}             &  Least Squares   & \\textbf{  F-statistic:       } &     259.1   \\\\\n",
       "\\textbf{Date:}               & Wed, 06 Dec 2023 & \\textbf{  Prob (F-statistic):} & 4.70e-257   \\\\\n",
       "\\textbf{Time:}               &     17:16:16     & \\textbf{  Log-Likelihood:    } &   -16648.   \\\\\n",
       "\\textbf{No. Observations:}   &        1589      & \\textbf{  AIC:               } & 3.331e+04   \\\\\n",
       "\\textbf{Df Residuals:}       &        1581      & \\textbf{  BIC:               } & 3.335e+04   \\\\\n",
       "\\textbf{Df Model:}           &           7      & \\textbf{                     } &             \\\\\n",
       "\\textbf{Covariance Type:}    &    nonrobust     & \\textbf{                     } &             \\\\\n",
       "\\bottomrule\n",
       "\\end{tabular}\n",
       "\\begin{tabular}{lcccccc}\n",
       "                             & \\textbf{coef} & \\textbf{std err} & \\textbf{t} & \\textbf{P$> |$t$|$} & \\textbf{[0.025} & \\textbf{0.975]}  \\\\\n",
       "\\midrule\n",
       "\\textbf{const}               &    3.842e+04  &     2192.660     &    17.523  &         0.000        &     3.41e+04    &     4.27e+04     \\\\\n",
       "\\textbf{College}             &    -481.5147  &      258.382     &    -1.864  &         0.063        &     -988.321    &       25.292     \\\\\n",
       "\\textbf{City}                &     380.8308  &      433.455     &     0.879  &         0.380        &     -469.377    &     1231.039     \\\\\n",
       "\\textbf{Previous CTC}        &       0.4101  &        0.033     &    12.526  &         0.000        &        0.346    &        0.474     \\\\\n",
       "\\textbf{Previous job change} &     126.5653  &      192.887     &     0.656  &         0.512        &     -251.776    &      504.906     \\\\\n",
       "\\textbf{Graduation Marks}    &       6.2362  &       14.502     &     0.430  &         0.667        &      -22.208    &       34.681     \\\\\n",
       "\\textbf{EXP (Month)}         &     261.3444  &       15.460     &    16.904  &         0.000        &      231.020    &      291.669     \\\\\n",
       "\\textbf{Role\\_Manager}       &    1.949e+04  &      534.694     &    36.446  &         0.000        &     1.84e+04    &     2.05e+04     \\\\\n",
       "\\bottomrule\n",
       "\\end{tabular}\n",
       "\\begin{tabular}{lclc}\n",
       "\\textbf{Omnibus:}       & 49.726 & \\textbf{  Durbin-Watson:     } &    2.052  \\\\\n",
       "\\textbf{Prob(Omnibus):} &  0.000 & \\textbf{  Jarque-Bera (JB):  } &   55.299  \\\\\n",
       "\\textbf{Skew:}          &  0.408 & \\textbf{  Prob(JB):          } & 9.82e-13  \\\\\n",
       "\\textbf{Kurtosis:}      &  3.411 & \\textbf{  Cond. No.          } & 5.68e+05  \\\\\n",
       "\\bottomrule\n",
       "\\end{tabular}\n",
       "%\\caption{OLS Regression Results}\n",
       "\\end{center}\n",
       "\n",
       "Notes: \\newline\n",
       " [1] Standard Errors assume that the covariance matrix of the errors is correctly specified. \\newline\n",
       " [2] The condition number is large, 5.68e+05. This might indicate that there are \\newline\n",
       " strong multicollinearity or other numerical problems."
      ],
      "text/plain": [
       "<class 'statsmodels.iolib.summary.Summary'>\n",
       "\"\"\"\n",
       "                            OLS Regression Results                            \n",
       "==============================================================================\n",
       "Dep. Variable:                    CTC   R-squared:                       0.534\n",
       "Model:                            OLS   Adj. R-squared:                  0.532\n",
       "Method:                 Least Squares   F-statistic:                     259.1\n",
       "Date:                Wed, 06 Dec 2023   Prob (F-statistic):          4.70e-257\n",
       "Time:                        17:16:16   Log-Likelihood:                -16648.\n",
       "No. Observations:                1589   AIC:                         3.331e+04\n",
       "Df Residuals:                    1581   BIC:                         3.335e+04\n",
       "Df Model:                           7                                         \n",
       "Covariance Type:            nonrobust                                         \n",
       "=======================================================================================\n",
       "                          coef    std err          t      P>|t|      [0.025      0.975]\n",
       "---------------------------------------------------------------------------------------\n",
       "const                3.842e+04   2192.660     17.523      0.000    3.41e+04    4.27e+04\n",
       "College              -481.5147    258.382     -1.864      0.063    -988.321      25.292\n",
       "City                  380.8308    433.455      0.879      0.380    -469.377    1231.039\n",
       "Previous CTC            0.4101      0.033     12.526      0.000       0.346       0.474\n",
       "Previous job change   126.5653    192.887      0.656      0.512    -251.776     504.906\n",
       "Graduation Marks        6.2362     14.502      0.430      0.667     -22.208      34.681\n",
       "EXP (Month)           261.3444     15.460     16.904      0.000     231.020     291.669\n",
       "Role_Manager         1.949e+04    534.694     36.446      0.000    1.84e+04    2.05e+04\n",
       "==============================================================================\n",
       "Omnibus:                       49.726   Durbin-Watson:                   2.052\n",
       "Prob(Omnibus):                  0.000   Jarque-Bera (JB):               55.299\n",
       "Skew:                           0.408   Prob(JB):                     9.82e-13\n",
       "Kurtosis:                       3.411   Cond. No.                     5.68e+05\n",
       "==============================================================================\n",
       "\n",
       "Notes:\n",
       "[1] Standard Errors assume that the covariance matrix of the errors is correctly specified.\n",
       "[2] The condition number is large, 5.68e+05. This might indicate that there are\n",
       "strong multicollinearity or other numerical problems.\n",
       "\"\"\""
      ]
     },
     "execution_count": 167,
     "metadata": {},
     "output_type": "execute_result"
    }
   ],
   "source": [
    "\n",
    "lm.summary()"
   ]
  },
  {
   "cell_type": "markdown",
   "id": "4fb372a1",
   "metadata": {},
   "source": [
    "# Observation (Simple Linear Regression):\n",
    "\n",
    "## R-squared:\n",
    "\n",
    "With an R-squared value of 0.534, the model elucidates approximately 53.4% of the variance in the dependent variable (CTC). This moderate R-squared indicates a meaningful capture of the data's variability.\n",
    "\n",
    "## Model Evaluation:\n",
    "\n",
    "While the regression results underscore the model's statistical significance, supported by a low p-value for the F-statistic, the R-squared value of 0.534 signals a moderate explanatory power for the dependent variable. Furthermore, indications of non-normality in the residuals (per the JB test) and the presence of moderate skewness and kurtosis in the data suggest potential areas for refining the model and enhancing its predictive performance.\n"
   ]
  },
  {
   "cell_type": "markdown",
   "id": "38b0f84b",
   "metadata": {},
   "source": [
    "## Linear regression by training the model"
   ]
  },
  {
   "cell_type": "code",
   "execution_count": 168,
   "id": "ed8d0358",
   "metadata": {},
   "outputs": [],
   "source": [
    "from sklearn.linear_model import LinearRegression\n",
    "import statsmodels.api as sn"
   ]
  },
  {
   "cell_type": "code",
   "execution_count": 169,
   "id": "948e7dd5",
   "metadata": {},
   "outputs": [],
   "source": [
    "from sklearn.model_selection import train_test_split"
   ]
  },
  {
   "cell_type": "code",
   "execution_count": 170,
   "id": "f2b9c5c0",
   "metadata": {},
   "outputs": [],
   "source": [
    "#Splitting the data into training and testing sets\n",
    "# with 80% for training and 20% for testing.\n",
    "x_train, x_test, y_train, y_test = train_test_split(x, y, test_size=0.2, random_state=42)"
   ]
  },
  {
   "cell_type": "code",
   "execution_count": 171,
   "id": "94556fa6",
   "metadata": {
    "scrolled": true
   },
   "outputs": [
    {
     "name": "stdout",
     "output_type": "stream",
     "text": [
      "(1271, 7) (318, 7) (1271,) (318,)\n"
     ]
    }
   ],
   "source": [
    "print(x_train.shape,x_test.shape,y_train.shape,y_test.shape)"
   ]
  },
  {
   "cell_type": "code",
   "execution_count": 172,
   "id": "d8e7c9fb",
   "metadata": {
    "scrolled": true
   },
   "outputs": [
    {
     "data": {
      "text/html": [
       "<style>#sk-container-id-11 {color: black;}#sk-container-id-11 pre{padding: 0;}#sk-container-id-11 div.sk-toggleable {background-color: white;}#sk-container-id-11 label.sk-toggleable__label {cursor: pointer;display: block;width: 100%;margin-bottom: 0;padding: 0.3em;box-sizing: border-box;text-align: center;}#sk-container-id-11 label.sk-toggleable__label-arrow:before {content: \"▸\";float: left;margin-right: 0.25em;color: #696969;}#sk-container-id-11 label.sk-toggleable__label-arrow:hover:before {color: black;}#sk-container-id-11 div.sk-estimator:hover label.sk-toggleable__label-arrow:before {color: black;}#sk-container-id-11 div.sk-toggleable__content {max-height: 0;max-width: 0;overflow: hidden;text-align: left;background-color: #f0f8ff;}#sk-container-id-11 div.sk-toggleable__content pre {margin: 0.2em;color: black;border-radius: 0.25em;background-color: #f0f8ff;}#sk-container-id-11 input.sk-toggleable__control:checked~div.sk-toggleable__content {max-height: 200px;max-width: 100%;overflow: auto;}#sk-container-id-11 input.sk-toggleable__control:checked~label.sk-toggleable__label-arrow:before {content: \"▾\";}#sk-container-id-11 div.sk-estimator input.sk-toggleable__control:checked~label.sk-toggleable__label {background-color: #d4ebff;}#sk-container-id-11 div.sk-label input.sk-toggleable__control:checked~label.sk-toggleable__label {background-color: #d4ebff;}#sk-container-id-11 input.sk-hidden--visually {border: 0;clip: rect(1px 1px 1px 1px);clip: rect(1px, 1px, 1px, 1px);height: 1px;margin: -1px;overflow: hidden;padding: 0;position: absolute;width: 1px;}#sk-container-id-11 div.sk-estimator {font-family: monospace;background-color: #f0f8ff;border: 1px dotted black;border-radius: 0.25em;box-sizing: border-box;margin-bottom: 0.5em;}#sk-container-id-11 div.sk-estimator:hover {background-color: #d4ebff;}#sk-container-id-11 div.sk-parallel-item::after {content: \"\";width: 100%;border-bottom: 1px solid gray;flex-grow: 1;}#sk-container-id-11 div.sk-label:hover label.sk-toggleable__label {background-color: #d4ebff;}#sk-container-id-11 div.sk-serial::before {content: \"\";position: absolute;border-left: 1px solid gray;box-sizing: border-box;top: 0;bottom: 0;left: 50%;z-index: 0;}#sk-container-id-11 div.sk-serial {display: flex;flex-direction: column;align-items: center;background-color: white;padding-right: 0.2em;padding-left: 0.2em;position: relative;}#sk-container-id-11 div.sk-item {position: relative;z-index: 1;}#sk-container-id-11 div.sk-parallel {display: flex;align-items: stretch;justify-content: center;background-color: white;position: relative;}#sk-container-id-11 div.sk-item::before, #sk-container-id-11 div.sk-parallel-item::before {content: \"\";position: absolute;border-left: 1px solid gray;box-sizing: border-box;top: 0;bottom: 0;left: 50%;z-index: -1;}#sk-container-id-11 div.sk-parallel-item {display: flex;flex-direction: column;z-index: 1;position: relative;background-color: white;}#sk-container-id-11 div.sk-parallel-item:first-child::after {align-self: flex-end;width: 50%;}#sk-container-id-11 div.sk-parallel-item:last-child::after {align-self: flex-start;width: 50%;}#sk-container-id-11 div.sk-parallel-item:only-child::after {width: 0;}#sk-container-id-11 div.sk-dashed-wrapped {border: 1px dashed gray;margin: 0 0.4em 0.5em 0.4em;box-sizing: border-box;padding-bottom: 0.4em;background-color: white;}#sk-container-id-11 div.sk-label label {font-family: monospace;font-weight: bold;display: inline-block;line-height: 1.2em;}#sk-container-id-11 div.sk-label-container {text-align: center;}#sk-container-id-11 div.sk-container {/* jupyter's `normalize.less` sets `[hidden] { display: none; }` but bootstrap.min.css set `[hidden] { display: none !important; }` so we also need the `!important` here to be able to override the default hidden behavior on the sphinx rendered scikit-learn.org. See: https://github.com/scikit-learn/scikit-learn/issues/21755 */display: inline-block !important;position: relative;}#sk-container-id-11 div.sk-text-repr-fallback {display: none;}</style><div id=\"sk-container-id-11\" class=\"sk-top-container\"><div class=\"sk-text-repr-fallback\"><pre>LinearRegression()</pre><b>In a Jupyter environment, please rerun this cell to show the HTML representation or trust the notebook. <br />On GitHub, the HTML representation is unable to render, please try loading this page with nbviewer.org.</b></div><div class=\"sk-container\" hidden><div class=\"sk-item\"><div class=\"sk-estimator sk-toggleable\"><input class=\"sk-toggleable__control sk-hidden--visually\" id=\"sk-estimator-id-15\" type=\"checkbox\" checked><label for=\"sk-estimator-id-15\" class=\"sk-toggleable__label sk-toggleable__label-arrow\">LinearRegression</label><div class=\"sk-toggleable__content\"><pre>LinearRegression()</pre></div></div></div></div></div>"
      ],
      "text/plain": [
       "LinearRegression()"
      ]
     },
     "execution_count": 172,
     "metadata": {},
     "output_type": "execute_result"
    }
   ],
   "source": [
    "#following the standart procedure of creaeting a linear regressoin model\n",
    "#create objects\n",
    "lm_a = LinearRegression()\n",
    "lm_a.fit(x_train,y_train)"
   ]
  },
  {
   "cell_type": "code",
   "execution_count": 173,
   "id": "336f8609",
   "metadata": {},
   "outputs": [
    {
     "name": "stdout",
     "output_type": "stream",
     "text": [
      "0.5933517958385095\n"
     ]
    }
   ],
   "source": [
    "#now predict value of y using this model lm_a and get r2\n",
    "from sklearn.metrics import r2_score\n",
    "r2_test = r2_score(y_test, lm_a.predict(x_test))\n",
    "print(r2_test)"
   ]
  },
  {
   "cell_type": "code",
   "execution_count": 174,
   "id": "ad657e0c",
   "metadata": {},
   "outputs": [
    {
     "name": "stdout",
     "output_type": "stream",
     "text": [
      "0.5137747142134839\n"
     ]
    }
   ],
   "source": [
    "r2_train = r2_score(y_train, lm_a.predict(x_train))\n",
    "print(r2_train)"
   ]
  },
  {
   "cell_type": "code",
   "execution_count": 175,
   "id": "2e76384a",
   "metadata": {},
   "outputs": [
    {
     "name": "stdout",
     "output_type": "stream",
     "text": [
      "Mean Squared Error: 73950131.2132985\n",
      "R-Squared:(r2) 0.5933517958385095\n"
     ]
    }
   ],
   "source": [
    "#mean squard error \n",
    "from sklearn.metrics import mean_squared_error\n",
    "\n",
    "\n",
    "# Calculate Mean Squared Error\n",
    "mse = mean_squared_error(y, lm_a.predict(x))\n",
    "print(\"Mean Squared Error:\", mse)\n",
    "\n",
    "# r2 value\n",
    "r2 = r2_score(y_test, lm_a.predict(x_test))\n",
    "print(\"R-Squared:(r2)\", r2)"
   ]
  },
  {
   "cell_type": "markdown",
   "id": "52832dd1",
   "metadata": {},
   "source": [
    "# Observation (Linear Regression):\n",
    "\n",
    "## Model Assessment:\n",
    "\n",
    "The Root Mean Squared Error (RMSE) and Mean Squared Error (MSE) values demonstrate a considerable average deviation of the model's predictions from the actual values. Although the R-squared value is moderate, suggesting the model explains around 59% of the variance in the target variable, its adequacy depends on the particular application and intricacies of the dataset.\n"
   ]
  },
  {
   "cell_type": "markdown",
   "id": "03ccffcd",
   "metadata": {},
   "source": [
    " "
   ]
  },
  {
   "cell_type": "markdown",
   "id": "79fa8891",
   "metadata": {},
   "source": [
    " "
   ]
  },
  {
   "cell_type": "markdown",
   "id": "0dd4e9bf",
   "metadata": {},
   "source": [
    " "
   ]
  },
  {
   "cell_type": "markdown",
   "id": "21802e2c",
   "metadata": {},
   "source": [
    "# Ridge Regression:\n",
    "\n",
    "Ridge Regression is a regularization technique that mitigates multicollinearity in linear regression by adding a penalty term to the loss function. It prevents overfitting and stabilizes the model by constraining the coefficients, particularly beneficial when dealing with high-dimensional datasets.\n"
   ]
  },
  {
   "cell_type": "code",
   "execution_count": 176,
   "id": "564c02b9",
   "metadata": {},
   "outputs": [],
   "source": [
    "from sklearn import preprocessing\n",
    "scaler = preprocessing.StandardScaler().fit(x_train)\n",
    "x_train_s = scaler.transform(x_train)\n",
    "x_test_s = scaler.transform(x_test)\n"
   ]
  },
  {
   "cell_type": "markdown",
   "id": "894ca727",
   "metadata": {},
   "source": [
    "### Scaling using StandardScaler:\n",
    "\n",
    "In data preprocessing, StandardScaler is employed to scale numerical features to a standard normal distribution, ensuring that all features contribute equally to the model. This improves convergence in machine learning algorithms and prevents features with larger scales from dominating the learning process.\n"
   ]
  },
  {
   "cell_type": "code",
   "execution_count": 177,
   "id": "8b400662",
   "metadata": {},
   "outputs": [],
   "source": [
    "from sklearn.linear_model import Ridge"
   ]
  },
  {
   "cell_type": "code",
   "execution_count": 178,
   "id": "bcafccf4",
   "metadata": {},
   "outputs": [],
   "source": [
    "lm_r = Ridge(alpha = 1)\n",
    "lm_r.fit(x_train_s,y_train)# fitting the model\n",
    "y_pred = lm_r.predict(x_test_s)# preddicting the value of using the model"
   ]
  },
  {
   "cell_type": "markdown",
   "id": "6ac024dc",
   "metadata": {},
   "source": [
    "#### Ridge Regression with Alpha:\n",
    "\n",
    "In Ridge Regression, the hyperparameter alpha (λ) is set to 1 as an example regularization strength. It controls the degree of regularization, helping prevent overfitting by adding a penalty term to the loss function. Higher alpha values result in stronger regularization, influencing the model to generalize better on new data.\n"
   ]
  },
  {
   "cell_type": "code",
   "execution_count": 179,
   "id": "607abd34",
   "metadata": {},
   "outputs": [
    {
     "name": "stdout",
     "output_type": "stream",
     "text": [
      "Test r2: 0.5932150226490313\n",
      "Train r2: 0.5137744044805612\n",
      "Mean Squared Error (Test): 77388795.36074248\n"
     ]
    }
   ],
   "source": [
    "ridge_test_r2 = r2_score(y_test , y_pred)\n",
    "ridge_train_r2 = r2_score(y_train , lm_r.predict(x_train_s))\n",
    "print(\"Test r2:\", ridge_test_r2)\n",
    "print(\"Train r2:\", ridge_train_r2)\n",
    "mse_test = mean_squared_error(y_test, lm_r.predict(x_test_s))\n",
    "print(\"Mean Squared Error (Test):\", mse_test)"
   ]
  },
  {
   "cell_type": "markdown",
   "id": "885a2408",
   "metadata": {},
   "source": [
    "### scatter plot: predicted ctc vs actual ctc"
   ]
  },
  {
   "cell_type": "code",
   "execution_count": 180,
   "id": "6aee0ca3",
   "metadata": {},
   "outputs": [
    {
     "data": {
      "image/png": "[encoded data removed]",
      "text/plain": [
       "<Figure size 640x480 with 1 Axes>"
      ]
     },
     "metadata": {},
     "output_type": "display_data"
    }
   ],
   "source": [
    "\n",
    "import matplotlib.pyplot as plt\n",
    "# Scatter plot of predicted vs. actual CTC values\n",
    "\n",
    "plt.scatter(y_test, y_pred, label='Predictions')\n",
    "\n",
    "# Plot a diagonal line for perfect predictions in black dashed style\n",
    "plt.plot([min(y_test), max(y_test)], [min(y_test), max(y_test)], color='g',\n",
    "         linestyle='-', lw=2, label='Perfect Prediction')\n",
    "\n",
    "# Add labels and title\n",
    "plt.xlabel('Actual CTC')\n",
    "plt.ylabel('Predicted CTC')\n",
    "plt.title('Predicted vs. Actual CTC')\n",
    "\n",
    "# Add a legend to the plot\n",
    "plt.legend()\n",
    "\n",
    "# Display the plot\n",
    "plt.show()"
   ]
  },
  {
   "cell_type": "markdown",
   "id": "1502acb9",
   "metadata": {},
   "source": [
    "# Observations:\n",
    "\n",
    "Surprisingly, the Test R-squared (0.5932) outperforms the Train R-squared (0.5138), showcasing the Ridge Regression model's robust generalization to new, unseen data. This suggests a well-balanced model that effectively avoids excessive tailoring to the training dataset.\n",
    "\n",
    "## Model Assessment:\n",
    "\n",
    "### Test R-squared (0.5932):\n",
    "\n",
    "The notably high Test R-squared emphasizes the Ridge Regression model's ability to capture a substantial portion of the variance in the test data. This reflects strong predictive prowess for the dependent variable (CTC), where the model's predictions align well with the actual test data, signifying its effectiveness.\n",
    "\n",
    "### Train R-squared (0.5138):\n",
    "\n",
    "While the Train R-squared is also respectable, indicating the model's explanatory power for the training data, the notable discrepancy with the Test R-squared prompts further exploration. Despite its decent performance, there might be opportunities for fine-tuning to further enhance model efficacy.\n"
   ]
  },
  {
   "cell_type": "markdown",
   "id": "2a88c62c",
   "metadata": {},
   "source": [
    " "
   ]
  },
  {
   "cell_type": "markdown",
   "id": "54829c58",
   "metadata": {},
   "source": [
    " "
   ]
  },
  {
   "cell_type": "markdown",
   "id": "38b6761c",
   "metadata": {},
   "source": [
    " "
   ]
  },
  {
   "cell_type": "markdown",
   "id": "d65a0adf",
   "metadata": {},
   "source": [
    "# Validation Curve:\n",
    "\n",
    "A validation curve is a graphical representation that illustrates how a model's performance metric (e.g., accuracy or R-squared) changes with variations in a hyperparameter. It helps identify the optimal value for the hyperparameter by visually inspecting the curve, enabling effective tuning for enhanced model performance.\n"
   ]
  },
  {
   "cell_type": "code",
   "execution_count": 181,
   "id": "6f7f49fe",
   "metadata": {},
   "outputs": [],
   "source": [
    "from sklearn.model_selection import validation_curve"
   ]
  },
  {
   "cell_type": "code",
   "execution_count": 182,
   "id": "e8653322",
   "metadata": {},
   "outputs": [],
   "source": [
    "param_range = np.logspace(-2,8,100)\n",
    "# param_range:\n",
    "\n",
    "#param_range` is a parameter in machine learning model evaluation, representing a range of values for a hyperparameter.\n",
    "#It is used to explore and visualize how changes in the hyperparameter values impact the model's performance, \n",
    "#facilitating effective hyperparameter tuning."
   ]
  },
  {
   "cell_type": "code",
   "execution_count": 183,
   "id": "8fd33ec1",
   "metadata": {},
   "outputs": [],
   "source": [
    "train_scores, test_scores = validation_curve(\n",
    "    Ridge(), x_train_s, y_train, param_name=\"alpha\", param_range=param_range,cv=5 ,scoring='r2'\n",
    ")"
   ]
  },
  {
   "cell_type": "code",
   "execution_count": 184,
   "id": "90c86ac4",
   "metadata": {},
   "outputs": [],
   "source": [
    "train_mean = np.mean(train_scores, axis =1)\n",
    "test_mean = np.mean(test_scores,axis =1)"
   ]
  },
  {
   "cell_type": "code",
   "execution_count": 185,
   "id": "b7bcfa6f",
   "metadata": {},
   "outputs": [
    {
     "data": {
      "text/plain": [
       "0.5029662449327634"
      ]
     },
     "execution_count": 185,
     "metadata": {},
     "output_type": "execute_result"
    }
   ],
   "source": [
    "max(test_mean)"
   ]
  },
  {
   "cell_type": "code",
   "execution_count": 186,
   "id": "13b3109c",
   "metadata": {},
   "outputs": [
    {
     "data": {
      "text/plain": [
       "<seaborn.axisgrid.JointGrid at 0x21f6e9c7350>"
      ]
     },
     "execution_count": 186,
     "metadata": {},
     "output_type": "execute_result"
    },
    {
     "data": {
      "image/png": "[encoded data removed]",
      "text/plain": [
       "<Figure size 600x600 with 3 Axes>"
      ]
     },
     "metadata": {},
     "output_type": "display_data"
    }
   ],
   "source": [
    "sns.jointplot(x = np.log(param_range),y =test_mean)"
   ]
  },
  {
   "cell_type": "code",
   "execution_count": 187,
   "id": "203c050f",
   "metadata": {},
   "outputs": [
    {
     "data": {
      "text/plain": [
       "(array([28], dtype=int64),)"
      ]
     },
     "execution_count": 187,
     "metadata": {},
     "output_type": "execute_result"
    }
   ],
   "source": [
    "np.where(test_mean == max(test_mean))"
   ]
  },
  {
   "cell_type": "code",
   "execution_count": 188,
   "id": "4fce055a",
   "metadata": {},
   "outputs": [
    {
     "data": {
      "text/html": [
       "<style>#sk-container-id-12 {color: black;}#sk-container-id-12 pre{padding: 0;}#sk-container-id-12 div.sk-toggleable {background-color: white;}#sk-container-id-12 label.sk-toggleable__label {cursor: pointer;display: block;width: 100%;margin-bottom: 0;padding: 0.3em;box-sizing: border-box;text-align: center;}#sk-container-id-12 label.sk-toggleable__label-arrow:before {content: \"▸\";float: left;margin-right: 0.25em;color: #696969;}#sk-container-id-12 label.sk-toggleable__label-arrow:hover:before {color: black;}#sk-container-id-12 div.sk-estimator:hover label.sk-toggleable__label-arrow:before {color: black;}#sk-container-id-12 div.sk-toggleable__content {max-height: 0;max-width: 0;overflow: hidden;text-align: left;background-color: #f0f8ff;}#sk-container-id-12 div.sk-toggleable__content pre {margin: 0.2em;color: black;border-radius: 0.25em;background-color: #f0f8ff;}#sk-container-id-12 input.sk-toggleable__control:checked~div.sk-toggleable__content {max-height: 200px;max-width: 100%;overflow: auto;}#sk-container-id-12 input.sk-toggleable__control:checked~label.sk-toggleable__label-arrow:before {content: \"▾\";}#sk-container-id-12 div.sk-estimator input.sk-toggleable__control:checked~label.sk-toggleable__label {background-color: #d4ebff;}#sk-container-id-12 div.sk-label input.sk-toggleable__control:checked~label.sk-toggleable__label {background-color: #d4ebff;}#sk-container-id-12 input.sk-hidden--visually {border: 0;clip: rect(1px 1px 1px 1px);clip: rect(1px, 1px, 1px, 1px);height: 1px;margin: -1px;overflow: hidden;padding: 0;position: absolute;width: 1px;}#sk-container-id-12 div.sk-estimator {font-family: monospace;background-color: #f0f8ff;border: 1px dotted black;border-radius: 0.25em;box-sizing: border-box;margin-bottom: 0.5em;}#sk-container-id-12 div.sk-estimator:hover {background-color: #d4ebff;}#sk-container-id-12 div.sk-parallel-item::after {content: \"\";width: 100%;border-bottom: 1px solid gray;flex-grow: 1;}#sk-container-id-12 div.sk-label:hover label.sk-toggleable__label {background-color: #d4ebff;}#sk-container-id-12 div.sk-serial::before {content: \"\";position: absolute;border-left: 1px solid gray;box-sizing: border-box;top: 0;bottom: 0;left: 50%;z-index: 0;}#sk-container-id-12 div.sk-serial {display: flex;flex-direction: column;align-items: center;background-color: white;padding-right: 0.2em;padding-left: 0.2em;position: relative;}#sk-container-id-12 div.sk-item {position: relative;z-index: 1;}#sk-container-id-12 div.sk-parallel {display: flex;align-items: stretch;justify-content: center;background-color: white;position: relative;}#sk-container-id-12 div.sk-item::before, #sk-container-id-12 div.sk-parallel-item::before {content: \"\";position: absolute;border-left: 1px solid gray;box-sizing: border-box;top: 0;bottom: 0;left: 50%;z-index: -1;}#sk-container-id-12 div.sk-parallel-item {display: flex;flex-direction: column;z-index: 1;position: relative;background-color: white;}#sk-container-id-12 div.sk-parallel-item:first-child::after {align-self: flex-end;width: 50%;}#sk-container-id-12 div.sk-parallel-item:last-child::after {align-self: flex-start;width: 50%;}#sk-container-id-12 div.sk-parallel-item:only-child::after {width: 0;}#sk-container-id-12 div.sk-dashed-wrapped {border: 1px dashed gray;margin: 0 0.4em 0.5em 0.4em;box-sizing: border-box;padding-bottom: 0.4em;background-color: white;}#sk-container-id-12 div.sk-label label {font-family: monospace;font-weight: bold;display: inline-block;line-height: 1.2em;}#sk-container-id-12 div.sk-label-container {text-align: center;}#sk-container-id-12 div.sk-container {/* jupyter's `normalize.less` sets `[hidden] { display: none; }` but bootstrap.min.css set `[hidden] { display: none !important; }` so we also need the `!important` here to be able to override the default hidden behavior on the sphinx rendered scikit-learn.org. See: https://github.com/scikit-learn/scikit-learn/issues/21755 */display: inline-block !important;position: relative;}#sk-container-id-12 div.sk-text-repr-fallback {display: none;}</style><div id=\"sk-container-id-12\" class=\"sk-top-container\"><div class=\"sk-text-repr-fallback\"><pre>Ridge(alpha=6.7341506577508214)</pre><b>In a Jupyter environment, please rerun this cell to show the HTML representation or trust the notebook. <br />On GitHub, the HTML representation is unable to render, please try loading this page with nbviewer.org.</b></div><div class=\"sk-container\" hidden><div class=\"sk-item\"><div class=\"sk-estimator sk-toggleable\"><input class=\"sk-toggleable__control sk-hidden--visually\" id=\"sk-estimator-id-16\" type=\"checkbox\" checked><label for=\"sk-estimator-id-16\" class=\"sk-toggleable__label sk-toggleable__label-arrow\">Ridge</label><div class=\"sk-toggleable__content\"><pre>Ridge(alpha=6.7341506577508214)</pre></div></div></div></div></div>"
      ],
      "text/plain": [
       "Ridge(alpha=6.7341506577508214)"
      ]
     },
     "execution_count": 188,
     "metadata": {},
     "output_type": "execute_result"
    }
   ],
   "source": [
    "lm_r_best = Ridge(alpha = param_range[28])\n",
    "lm_r_best.fit(x_train_s,y_train)"
   ]
  },
  {
   "cell_type": "code",
   "execution_count": 189,
   "id": "af1ac294",
   "metadata": {
    "scrolled": true
   },
   "outputs": [
    {
     "name": "stdout",
     "output_type": "stream",
     "text": [
      "validation curve r2 test value with best param: 0.59242500449021\n",
      "validation curve r2 train value with best param: 0.513760794015264\n",
      "validation curve MSE with best param: 77539092.34078938\n",
      "validation curve MSE with best param: 73098391.70965345\n"
     ]
    }
   ],
   "source": [
    "vc_test_r2 =r2_score(y_test, lm_r_best.predict(x_test_s))\n",
    "vc_train_r2=r2_score(y_train,lm_r_best.predict(x_train_s))\n",
    "mse_test = mean_squared_error(y_test, lm_r_best.predict(x_test_s))\n",
    "mse_train =  mean_squared_error(y_train, lm_r_best.predict(x_train_s))\n",
    "print(\"validation curve r2 test value with best param:\",vc_test_r2)\n",
    "print(\"validation curve r2 train value with best param:\",vc_train_r2)\n",
    "print(\"validation curve MSE with best param:\",mse_test)\n",
    "print(\"validation curve MSE with best param:\",mse_train)"
   ]
  },
  {
   "cell_type": "markdown",
   "id": "5dc1edf0",
   "metadata": {},
   "source": [
    "## Observations:\n",
    "\n",
    "The validation curve reveals that with the best parameter, the Test R-squared is 0.5924, suggesting effective predictive power for the dependent variable (CTC) in new, unseen data. Simultaneously, the Train R-squared of 0.5138 indicates reasonable explanatory power for the training data.\n",
    "\n",
    "The Mean Squared Error (MSE) on the test set with the best parameter is 77,539,092.34, reflecting the average squared difference between predicted and actual values. On the training set, the MSE is slightly lower at 73,098,391.71.\n",
    "\n",
    "### Model Assessment:\n",
    "\n",
    "The model demonstrates substantial predictive ability on the test set, as evidenced by the high R-squared and relatively lower MSE. However, the moderate Train R-squared and the notable difference between Train and Test R-squared values suggest potential room for improvement and fine-tuning. Further analysis and adjustments may enhance the model's overall performance.\n"
   ]
  },
  {
   "cell_type": "markdown",
   "id": "f128da99",
   "metadata": {},
   "source": [
    " "
   ]
  },
  {
   "cell_type": "markdown",
   "id": "4ff70ffd",
   "metadata": {},
   "source": [
    " "
   ]
  },
  {
   "cell_type": "markdown",
   "id": "76a42648",
   "metadata": {},
   "source": [
    " "
   ]
  },
  {
   "cell_type": "markdown",
   "id": "f7de9673",
   "metadata": {},
   "source": [
    "# Lasso Regression:\n",
    "\n",
    "Lasso (Least Absolute Shrinkage and Selection Operator) is a regularization technique in linear regression that introduces an L1 penalty term to the loss function. Unlike Ridge Regression, Lasso not only prevents overfitting but also performs feature selection by driving some coefficients to exactly zero. This makes Lasso useful for sparse feature sets and provides \n"
   ]
  },
  {
   "cell_type": "code",
   "execution_count": 190,
   "id": "fffb91bc",
   "metadata": {},
   "outputs": [],
   "source": [
    "from sklearn.linear_model import Lasso"
   ]
  },
  {
   "cell_type": "code",
   "execution_count": 191,
   "id": "32a535e4",
   "metadata": {},
   "outputs": [
    {
     "data": {
      "text/html": [
       "<style>#sk-container-id-13 {color: black;}#sk-container-id-13 pre{padding: 0;}#sk-container-id-13 div.sk-toggleable {background-color: white;}#sk-container-id-13 label.sk-toggleable__label {cursor: pointer;display: block;width: 100%;margin-bottom: 0;padding: 0.3em;box-sizing: border-box;text-align: center;}#sk-container-id-13 label.sk-toggleable__label-arrow:before {content: \"▸\";float: left;margin-right: 0.25em;color: #696969;}#sk-container-id-13 label.sk-toggleable__label-arrow:hover:before {color: black;}#sk-container-id-13 div.sk-estimator:hover label.sk-toggleable__label-arrow:before {color: black;}#sk-container-id-13 div.sk-toggleable__content {max-height: 0;max-width: 0;overflow: hidden;text-align: left;background-color: #f0f8ff;}#sk-container-id-13 div.sk-toggleable__content pre {margin: 0.2em;color: black;border-radius: 0.25em;background-color: #f0f8ff;}#sk-container-id-13 input.sk-toggleable__control:checked~div.sk-toggleable__content {max-height: 200px;max-width: 100%;overflow: auto;}#sk-container-id-13 input.sk-toggleable__control:checked~label.sk-toggleable__label-arrow:before {content: \"▾\";}#sk-container-id-13 div.sk-estimator input.sk-toggleable__control:checked~label.sk-toggleable__label {background-color: #d4ebff;}#sk-container-id-13 div.sk-label input.sk-toggleable__control:checked~label.sk-toggleable__label {background-color: #d4ebff;}#sk-container-id-13 input.sk-hidden--visually {border: 0;clip: rect(1px 1px 1px 1px);clip: rect(1px, 1px, 1px, 1px);height: 1px;margin: -1px;overflow: hidden;padding: 0;position: absolute;width: 1px;}#sk-container-id-13 div.sk-estimator {font-family: monospace;background-color: #f0f8ff;border: 1px dotted black;border-radius: 0.25em;box-sizing: border-box;margin-bottom: 0.5em;}#sk-container-id-13 div.sk-estimator:hover {background-color: #d4ebff;}#sk-container-id-13 div.sk-parallel-item::after {content: \"\";width: 100%;border-bottom: 1px solid gray;flex-grow: 1;}#sk-container-id-13 div.sk-label:hover label.sk-toggleable__label {background-color: #d4ebff;}#sk-container-id-13 div.sk-serial::before {content: \"\";position: absolute;border-left: 1px solid gray;box-sizing: border-box;top: 0;bottom: 0;left: 50%;z-index: 0;}#sk-container-id-13 div.sk-serial {display: flex;flex-direction: column;align-items: center;background-color: white;padding-right: 0.2em;padding-left: 0.2em;position: relative;}#sk-container-id-13 div.sk-item {position: relative;z-index: 1;}#sk-container-id-13 div.sk-parallel {display: flex;align-items: stretch;justify-content: center;background-color: white;position: relative;}#sk-container-id-13 div.sk-item::before, #sk-container-id-13 div.sk-parallel-item::before {content: \"\";position: absolute;border-left: 1px solid gray;box-sizing: border-box;top: 0;bottom: 0;left: 50%;z-index: -1;}#sk-container-id-13 div.sk-parallel-item {display: flex;flex-direction: column;z-index: 1;position: relative;background-color: white;}#sk-container-id-13 div.sk-parallel-item:first-child::after {align-self: flex-end;width: 50%;}#sk-container-id-13 div.sk-parallel-item:last-child::after {align-self: flex-start;width: 50%;}#sk-container-id-13 div.sk-parallel-item:only-child::after {width: 0;}#sk-container-id-13 div.sk-dashed-wrapped {border: 1px dashed gray;margin: 0 0.4em 0.5em 0.4em;box-sizing: border-box;padding-bottom: 0.4em;background-color: white;}#sk-container-id-13 div.sk-label label {font-family: monospace;font-weight: bold;display: inline-block;line-height: 1.2em;}#sk-container-id-13 div.sk-label-container {text-align: center;}#sk-container-id-13 div.sk-container {/* jupyter's `normalize.less` sets `[hidden] { display: none; }` but bootstrap.min.css set `[hidden] { display: none !important; }` so we also need the `!important` here to be able to override the default hidden behavior on the sphinx rendered scikit-learn.org. See: https://github.com/scikit-learn/scikit-learn/issues/21755 */display: inline-block !important;position: relative;}#sk-container-id-13 div.sk-text-repr-fallback {display: none;}</style><div id=\"sk-container-id-13\" class=\"sk-top-container\"><div class=\"sk-text-repr-fallback\"><pre>Lasso(alpha=0.1)</pre><b>In a Jupyter environment, please rerun this cell to show the HTML representation or trust the notebook. <br />On GitHub, the HTML representation is unable to render, please try loading this page with nbviewer.org.</b></div><div class=\"sk-container\" hidden><div class=\"sk-item\"><div class=\"sk-estimator sk-toggleable\"><input class=\"sk-toggleable__control sk-hidden--visually\" id=\"sk-estimator-id-17\" type=\"checkbox\" checked><label for=\"sk-estimator-id-17\" class=\"sk-toggleable__label sk-toggleable__label-arrow\">Lasso</label><div class=\"sk-toggleable__content\"><pre>Lasso(alpha=0.1)</pre></div></div></div></div></div>"
      ],
      "text/plain": [
       "Lasso(alpha=0.1)"
      ]
     },
     "execution_count": 191,
     "metadata": {},
     "output_type": "execute_result"
    }
   ],
   "source": [
    "lasso_model = Lasso(alpha=0.1) \n",
    "# Tune the alpha parameter for regularization.\n",
    "lasso_model.fit(x_train_s, y_train)"
   ]
  },
  {
   "cell_type": "code",
   "execution_count": 192,
   "id": "82d17fed",
   "metadata": {},
   "outputs": [],
   "source": [
    "#Predict y on the test set\n",
    "y_pred_test = lasso_model.predict(x_test_s)"
   ]
  },
  {
   "cell_type": "code",
   "execution_count": 193,
   "id": "9d466aca",
   "metadata": {},
   "outputs": [],
   "source": [
    "r2_score_test = r2_score(y_test, y_pred_test)\n",
    "r2_score_train = r2_score(y_train, lasso_model.predict(x_train_s))"
   ]
  },
  {
   "cell_type": "code",
   "execution_count": 194,
   "id": "a3b38209",
   "metadata": {},
   "outputs": [],
   "source": [
    "# Calculate Mean Squared Error (MSE) to evaluate the model\n",
    "mse = mean_squared_error(y_test, y_pred)"
   ]
  },
  {
   "cell_type": "code",
   "execution_count": 195,
   "id": "9140a79f",
   "metadata": {
    "scrolled": true
   },
   "outputs": [
    {
     "name": "stdout",
     "output_type": "stream",
     "text": [
      "Lasso Regression (MSE): 77388795.36074248\n",
      "Lasso Regression r2 (Test): 0.5933483153480408\n",
      "Lasso Regression r2(Train): 0.5137747137455719\n"
     ]
    }
   ],
   "source": [
    "\n",
    "print(\"Lasso Regression (MSE):\", mse)\n",
    "print(\"Lasso Regression r2 (Test):\", r2_score_test)\n",
    "print(\"Lasso Regression r2(Train):\", r2_score_train)"
   ]
  },
  {
   "cell_type": "markdown",
   "id": "2500aec7",
   "metadata": {},
   "source": [
    "## Lasso Regression Insights:\n",
    "\n",
    "In the realm of Lasso Regression, our model showcases a Test R-squared of 0.5933, illustrating its prowess in capturing a substantial share of the complexity within the dependent variable (CTC). On the training front, a commendable Train R-squared of 0.5138 signals the model's ability to offer meaningful explanations for the intricacies in the training data.\n",
    "\n",
    "When examining the Mean Squared Error (MSE) of 77,388,795.36, we gain a nuanced perspective on the predictive accuracy, highlighting how closely the model aligns with the actual data.\n",
    "\n",
    "## Unpacking the Model:\n",
    "\n",
    "Our Lasso Regression model emerges as a fine balance between fitting the data with finesse and steering clear of overfitting pitfalls. It not only embraces predictive prowess but also offers an avenue for feature selection, contributing to a more streamlined and interpretable model. Delving into hyperparameter exploration might unveil additional layers of optimization, ensuring adaptability and robustness across diverse datasets.\n"
   ]
  },
  {
   "cell_type": "markdown",
   "id": "57821c52",
   "metadata": {},
   "source": [
    " "
   ]
  },
  {
   "cell_type": "markdown",
   "id": "85993402",
   "metadata": {},
   "source": [
    " "
   ]
  },
  {
   "cell_type": "markdown",
   "id": "ebfb8411",
   "metadata": {},
   "source": [
    " "
   ]
  },
  {
   "cell_type": "markdown",
   "id": "4d1843a8",
   "metadata": {},
   "source": [
    "# K-Nearest Neighbors (KNN):\n",
    "\n",
    "KNN is a simple and intuitive machine learning algorithm for classification and regression tasks. It operates by assigning a data point the most common class among its k-nearest neighbors in feature space. The choice of k influences the algorithm's sensitivity to local variation\n"
   ]
  },
  {
   "cell_type": "code",
   "execution_count": 196,
   "id": "7fc69467",
   "metadata": {},
   "outputs": [],
   "source": [
    "from sklearn import preprocessing"
   ]
  },
  {
   "cell_type": "code",
   "execution_count": 197,
   "id": "78b483e3",
   "metadata": {},
   "outputs": [],
   "source": [
    "from sklearn.neighbors import KNeighborsRegressor"
   ]
  },
  {
   "cell_type": "code",
   "execution_count": 198,
   "id": "1a3301f8",
   "metadata": {},
   "outputs": [],
   "source": [
    "reg_knn = KNeighborsRegressor(n_neighbors =4)\n",
    "#n_neighbors` specifies the number of neighboring data points (k) considered when making predictions. \n",
    "#Here, it is set to 4, influencing the algorithm's sensitivity to local patterns in the data."
   ]
  },
  {
   "cell_type": "code",
   "execution_count": 199,
   "id": "d7edf814",
   "metadata": {
    "scrolled": true
   },
   "outputs": [
    {
     "data": {
      "text/html": [
       "<style>#sk-container-id-14 {color: black;}#sk-container-id-14 pre{padding: 0;}#sk-container-id-14 div.sk-toggleable {background-color: white;}#sk-container-id-14 label.sk-toggleable__label {cursor: pointer;display: block;width: 100%;margin-bottom: 0;padding: 0.3em;box-sizing: border-box;text-align: center;}#sk-container-id-14 label.sk-toggleable__label-arrow:before {content: \"▸\";float: left;margin-right: 0.25em;color: #696969;}#sk-container-id-14 label.sk-toggleable__label-arrow:hover:before {color: black;}#sk-container-id-14 div.sk-estimator:hover label.sk-toggleable__label-arrow:before {color: black;}#sk-container-id-14 div.sk-toggleable__content {max-height: 0;max-width: 0;overflow: hidden;text-align: left;background-color: #f0f8ff;}#sk-container-id-14 div.sk-toggleable__content pre {margin: 0.2em;color: black;border-radius: 0.25em;background-color: #f0f8ff;}#sk-container-id-14 input.sk-toggleable__control:checked~div.sk-toggleable__content {max-height: 200px;max-width: 100%;overflow: auto;}#sk-container-id-14 input.sk-toggleable__control:checked~label.sk-toggleable__label-arrow:before {content: \"▾\";}#sk-container-id-14 div.sk-estimator input.sk-toggleable__control:checked~label.sk-toggleable__label {background-color: #d4ebff;}#sk-container-id-14 div.sk-label input.sk-toggleable__control:checked~label.sk-toggleable__label {background-color: #d4ebff;}#sk-container-id-14 input.sk-hidden--visually {border: 0;clip: rect(1px 1px 1px 1px);clip: rect(1px, 1px, 1px, 1px);height: 1px;margin: -1px;overflow: hidden;padding: 0;position: absolute;width: 1px;}#sk-container-id-14 div.sk-estimator {font-family: monospace;background-color: #f0f8ff;border: 1px dotted black;border-radius: 0.25em;box-sizing: border-box;margin-bottom: 0.5em;}#sk-container-id-14 div.sk-estimator:hover {background-color: #d4ebff;}#sk-container-id-14 div.sk-parallel-item::after {content: \"\";width: 100%;border-bottom: 1px solid gray;flex-grow: 1;}#sk-container-id-14 div.sk-label:hover label.sk-toggleable__label {background-color: #d4ebff;}#sk-container-id-14 div.sk-serial::before {content: \"\";position: absolute;border-left: 1px solid gray;box-sizing: border-box;top: 0;bottom: 0;left: 50%;z-index: 0;}#sk-container-id-14 div.sk-serial {display: flex;flex-direction: column;align-items: center;background-color: white;padding-right: 0.2em;padding-left: 0.2em;position: relative;}#sk-container-id-14 div.sk-item {position: relative;z-index: 1;}#sk-container-id-14 div.sk-parallel {display: flex;align-items: stretch;justify-content: center;background-color: white;position: relative;}#sk-container-id-14 div.sk-item::before, #sk-container-id-14 div.sk-parallel-item::before {content: \"\";position: absolute;border-left: 1px solid gray;box-sizing: border-box;top: 0;bottom: 0;left: 50%;z-index: -1;}#sk-container-id-14 div.sk-parallel-item {display: flex;flex-direction: column;z-index: 1;position: relative;background-color: white;}#sk-container-id-14 div.sk-parallel-item:first-child::after {align-self: flex-end;width: 50%;}#sk-container-id-14 div.sk-parallel-item:last-child::after {align-self: flex-start;width: 50%;}#sk-container-id-14 div.sk-parallel-item:only-child::after {width: 0;}#sk-container-id-14 div.sk-dashed-wrapped {border: 1px dashed gray;margin: 0 0.4em 0.5em 0.4em;box-sizing: border-box;padding-bottom: 0.4em;background-color: white;}#sk-container-id-14 div.sk-label label {font-family: monospace;font-weight: bold;display: inline-block;line-height: 1.2em;}#sk-container-id-14 div.sk-label-container {text-align: center;}#sk-container-id-14 div.sk-container {/* jupyter's `normalize.less` sets `[hidden] { display: none; }` but bootstrap.min.css set `[hidden] { display: none !important; }` so we also need the `!important` here to be able to override the default hidden behavior on the sphinx rendered scikit-learn.org. See: https://github.com/scikit-learn/scikit-learn/issues/21755 */display: inline-block !important;position: relative;}#sk-container-id-14 div.sk-text-repr-fallback {display: none;}</style><div id=\"sk-container-id-14\" class=\"sk-top-container\"><div class=\"sk-text-repr-fallback\"><pre>KNeighborsRegressor(n_neighbors=4)</pre><b>In a Jupyter environment, please rerun this cell to show the HTML representation or trust the notebook. <br />On GitHub, the HTML representation is unable to render, please try loading this page with nbviewer.org.</b></div><div class=\"sk-container\" hidden><div class=\"sk-item\"><div class=\"sk-estimator sk-toggleable\"><input class=\"sk-toggleable__control sk-hidden--visually\" id=\"sk-estimator-id-18\" type=\"checkbox\" checked><label for=\"sk-estimator-id-18\" class=\"sk-toggleable__label sk-toggleable__label-arrow\">KNeighborsRegressor</label><div class=\"sk-toggleable__content\"><pre>KNeighborsRegressor(n_neighbors=4)</pre></div></div></div></div></div>"
      ],
      "text/plain": [
       "KNeighborsRegressor(n_neighbors=4)"
      ]
     },
     "execution_count": 199,
     "metadata": {},
     "output_type": "execute_result"
    }
   ],
   "source": [
    "reg_knn.fit(x_train_s,y_train)"
   ]
  },
  {
   "cell_type": "code",
   "execution_count": 200,
   "id": "dae0841b",
   "metadata": {},
   "outputs": [],
   "source": [
    "# predict y\n",
    "y_pred = reg_knn.predict(x_test_s)"
   ]
  },
  {
   "cell_type": "code",
   "execution_count": 201,
   "id": "7eafef72",
   "metadata": {},
   "outputs": [],
   "source": [
    "# r2 scores for test and train sets\n",
    "test_r2_score = r2_score(y_test, y_pred)\n",
    "train_r2_score = r2_score(y_train, reg_knn.predict(x_train_s))\n",
    "#Mean Squared Error (MSE)\n",
    "mse = mean_squared_error(y_test, y_pred)"
   ]
  },
  {
   "cell_type": "code",
   "execution_count": 202,
   "id": "38bdcbe0",
   "metadata": {
    "scrolled": false
   },
   "outputs": [
    {
     "name": "stdout",
     "output_type": "stream",
     "text": [
      "Test r2 Score (KNN Regression): 0.5618035593532283\n",
      "Train r2 Score (KNN Regression): 0.6893326564611804\n",
      "Mean Squared Error (MSE): 83364668.2182178\n"
     ]
    }
   ],
   "source": [
    "print(\"Test r2 Score (KNN Regression):\", test_r2_score)\n",
    "print(\"Train r2 Score (KNN Regression):\", train_r2_score)\n",
    "print(\"Mean Squared Error (MSE):\", mse)\n"
   ]
  },
  {
   "cell_type": "markdown",
   "id": "234c1f6a",
   "metadata": {},
   "source": [
    "# Observation K-Nearest Neighbors (KNN) Regression:\n",
    "\n",
    "The KNN Regression model exhibits decent predictive power, as indicated by the Test R-squared of 0.5618, capturing a meaningful portion of variance in new data. However, the discernible difference between Train and Test R-squared values (0.6893 vs. 0.5618) raises concerns about potential overfitting or a lack of generalization. The MSE of 83,364,668.22 provides a measure of prediction accuracy, but the overall assessment suggests a need for fine-tuning to strike a better balance between model fit and adaptability to diverse datasets.\n"
   ]
  },
  {
   "cell_type": "markdown",
   "id": "bf86e1da",
   "metadata": {},
   "source": [
    "."
   ]
  },
  {
   "cell_type": "markdown",
   "id": "f44b1ed3",
   "metadata": {},
   "source": [
    "."
   ]
  },
  {
   "cell_type": "markdown",
   "id": "2021c871",
   "metadata": {},
   "source": [
    "."
   ]
  },
  {
   "cell_type": "markdown",
   "id": "445f512e",
   "metadata": {},
   "source": [
    "# Grid Search:\n",
    "\n",
    "Grid Search is a hyperparameter tuning technique that exhaustively searches through a predefined set of hyperparameter values, creating a grid of combinations. It evaluates each combination using cross-validation and identifies the set of hyperparameters that yield the best model performance. Grid Search is invaluable for optimizing model parameters, enhancing predictive accuracy, and avoiding manual parameter tuning biases.\n"
   ]
  },
  {
   "cell_type": "code",
   "execution_count": 203,
   "id": "babf4948",
   "metadata": {},
   "outputs": [],
   "source": [
    "from sklearn.model_selection import GridSearchCV"
   ]
  },
  {
   "cell_type": "code",
   "execution_count": 204,
   "id": "3983048f",
   "metadata": {},
   "outputs": [],
   "source": [
    "params = {'n_neighbors': [ 1, 2, 3, 4, 5, 6, 7, 8, 9, 10]}"
   ]
  },
  {
   "cell_type": "code",
   "execution_count": 205,
   "id": "7a7c0aa4",
   "metadata": {},
   "outputs": [],
   "source": [
    "grid_search_cv = GridSearchCV(KNeighborsRegressor(), params)"
   ]
  },
  {
   "cell_type": "code",
   "execution_count": 206,
   "id": "10484854",
   "metadata": {},
   "outputs": [
    {
     "data": {
      "text/html": [
       "<style>#sk-container-id-15 {color: black;}#sk-container-id-15 pre{padding: 0;}#sk-container-id-15 div.sk-toggleable {background-color: white;}#sk-container-id-15 label.sk-toggleable__label {cursor: pointer;display: block;width: 100%;margin-bottom: 0;padding: 0.3em;box-sizing: border-box;text-align: center;}#sk-container-id-15 label.sk-toggleable__label-arrow:before {content: \"▸\";float: left;margin-right: 0.25em;color: #696969;}#sk-container-id-15 label.sk-toggleable__label-arrow:hover:before {color: black;}#sk-container-id-15 div.sk-estimator:hover label.sk-toggleable__label-arrow:before {color: black;}#sk-container-id-15 div.sk-toggleable__content {max-height: 0;max-width: 0;overflow: hidden;text-align: left;background-color: #f0f8ff;}#sk-container-id-15 div.sk-toggleable__content pre {margin: 0.2em;color: black;border-radius: 0.25em;background-color: #f0f8ff;}#sk-container-id-15 input.sk-toggleable__control:checked~div.sk-toggleable__content {max-height: 200px;max-width: 100%;overflow: auto;}#sk-container-id-15 input.sk-toggleable__control:checked~label.sk-toggleable__label-arrow:before {content: \"▾\";}#sk-container-id-15 div.sk-estimator input.sk-toggleable__control:checked~label.sk-toggleable__label {background-color: #d4ebff;}#sk-container-id-15 div.sk-label input.sk-toggleable__control:checked~label.sk-toggleable__label {background-color: #d4ebff;}#sk-container-id-15 input.sk-hidden--visually {border: 0;clip: rect(1px 1px 1px 1px);clip: rect(1px, 1px, 1px, 1px);height: 1px;margin: -1px;overflow: hidden;padding: 0;position: absolute;width: 1px;}#sk-container-id-15 div.sk-estimator {font-family: monospace;background-color: #f0f8ff;border: 1px dotted black;border-radius: 0.25em;box-sizing: border-box;margin-bottom: 0.5em;}#sk-container-id-15 div.sk-estimator:hover {background-color: #d4ebff;}#sk-container-id-15 div.sk-parallel-item::after {content: \"\";width: 100%;border-bottom: 1px solid gray;flex-grow: 1;}#sk-container-id-15 div.sk-label:hover label.sk-toggleable__label {background-color: #d4ebff;}#sk-container-id-15 div.sk-serial::before {content: \"\";position: absolute;border-left: 1px solid gray;box-sizing: border-box;top: 0;bottom: 0;left: 50%;z-index: 0;}#sk-container-id-15 div.sk-serial {display: flex;flex-direction: column;align-items: center;background-color: white;padding-right: 0.2em;padding-left: 0.2em;position: relative;}#sk-container-id-15 div.sk-item {position: relative;z-index: 1;}#sk-container-id-15 div.sk-parallel {display: flex;align-items: stretch;justify-content: center;background-color: white;position: relative;}#sk-container-id-15 div.sk-item::before, #sk-container-id-15 div.sk-parallel-item::before {content: \"\";position: absolute;border-left: 1px solid gray;box-sizing: border-box;top: 0;bottom: 0;left: 50%;z-index: -1;}#sk-container-id-15 div.sk-parallel-item {display: flex;flex-direction: column;z-index: 1;position: relative;background-color: white;}#sk-container-id-15 div.sk-parallel-item:first-child::after {align-self: flex-end;width: 50%;}#sk-container-id-15 div.sk-parallel-item:last-child::after {align-self: flex-start;width: 50%;}#sk-container-id-15 div.sk-parallel-item:only-child::after {width: 0;}#sk-container-id-15 div.sk-dashed-wrapped {border: 1px dashed gray;margin: 0 0.4em 0.5em 0.4em;box-sizing: border-box;padding-bottom: 0.4em;background-color: white;}#sk-container-id-15 div.sk-label label {font-family: monospace;font-weight: bold;display: inline-block;line-height: 1.2em;}#sk-container-id-15 div.sk-label-container {text-align: center;}#sk-container-id-15 div.sk-container {/* jupyter's `normalize.less` sets `[hidden] { display: none; }` but bootstrap.min.css set `[hidden] { display: none !important; }` so we also need the `!important` here to be able to override the default hidden behavior on the sphinx rendered scikit-learn.org. See: https://github.com/scikit-learn/scikit-learn/issues/21755 */display: inline-block !important;position: relative;}#sk-container-id-15 div.sk-text-repr-fallback {display: none;}</style><div id=\"sk-container-id-15\" class=\"sk-top-container\"><div class=\"sk-text-repr-fallback\"><pre>GridSearchCV(estimator=KNeighborsRegressor(),\n",
       "             param_grid={&#x27;n_neighbors&#x27;: [1, 2, 3, 4, 5, 6, 7, 8, 9, 10]})</pre><b>In a Jupyter environment, please rerun this cell to show the HTML representation or trust the notebook. <br />On GitHub, the HTML representation is unable to render, please try loading this page with nbviewer.org.</b></div><div class=\"sk-container\" hidden><div class=\"sk-item sk-dashed-wrapped\"><div class=\"sk-label-container\"><div class=\"sk-label sk-toggleable\"><input class=\"sk-toggleable__control sk-hidden--visually\" id=\"sk-estimator-id-19\" type=\"checkbox\" ><label for=\"sk-estimator-id-19\" class=\"sk-toggleable__label sk-toggleable__label-arrow\">GridSearchCV</label><div class=\"sk-toggleable__content\"><pre>GridSearchCV(estimator=KNeighborsRegressor(),\n",
       "             param_grid={&#x27;n_neighbors&#x27;: [1, 2, 3, 4, 5, 6, 7, 8, 9, 10]})</pre></div></div></div><div class=\"sk-parallel\"><div class=\"sk-parallel-item\"><div class=\"sk-item\"><div class=\"sk-label-container\"><div class=\"sk-label sk-toggleable\"><input class=\"sk-toggleable__control sk-hidden--visually\" id=\"sk-estimator-id-20\" type=\"checkbox\" ><label for=\"sk-estimator-id-20\" class=\"sk-toggleable__label sk-toggleable__label-arrow\">estimator: KNeighborsRegressor</label><div class=\"sk-toggleable__content\"><pre>KNeighborsRegressor()</pre></div></div></div><div class=\"sk-serial\"><div class=\"sk-item\"><div class=\"sk-estimator sk-toggleable\"><input class=\"sk-toggleable__control sk-hidden--visually\" id=\"sk-estimator-id-21\" type=\"checkbox\" ><label for=\"sk-estimator-id-21\" class=\"sk-toggleable__label sk-toggleable__label-arrow\">KNeighborsRegressor</label><div class=\"sk-toggleable__content\"><pre>KNeighborsRegressor()</pre></div></div></div></div></div></div></div></div></div></div>"
      ],
      "text/plain": [
       "GridSearchCV(estimator=KNeighborsRegressor(),\n",
       "             param_grid={'n_neighbors': [1, 2, 3, 4, 5, 6, 7, 8, 9, 10]})"
      ]
     },
     "execution_count": 206,
     "metadata": {},
     "output_type": "execute_result"
    }
   ],
   "source": [
    "grid_search_cv.fit(x_train_s, y_train)"
   ]
  },
  {
   "cell_type": "code",
   "execution_count": 207,
   "id": "fa35d447",
   "metadata": {},
   "outputs": [
    {
     "data": {
      "text/plain": [
       "{'n_neighbors': 10}"
      ]
     },
     "execution_count": 207,
     "metadata": {},
     "output_type": "execute_result"
    }
   ],
   "source": [
    "grid_search_cv.best_params_"
   ]
  },
  {
   "cell_type": "code",
   "execution_count": 208,
   "id": "10b6c6b8",
   "metadata": {},
   "outputs": [],
   "source": [
    "optimised_KNN = grid_search_cv.best_estimator_"
   ]
  },
  {
   "cell_type": "code",
   "execution_count": 209,
   "id": "b9405f78",
   "metadata": {},
   "outputs": [],
   "source": [
    "y_test_pred = optimised_KNN.predict(x_test_s)"
   ]
  },
  {
   "cell_type": "code",
   "execution_count": 210,
   "id": "07d75cb4",
   "metadata": {},
   "outputs": [],
   "source": [
    "# Evaluating the best model on the test set\n",
    "test_r2_score = r2_score(y_test, y_pred)\n",
    "train_r2_score = r2_score(y_train, optimised_KNN.predict(x_train_s))\n",
    "mse_test = mean_squared_error(y_test, y_pred)\n",
    "mse_train = mean_squared_error(y_train, optimised_KNN.predict(x_train_s))"
   ]
  },
  {
   "cell_type": "code",
   "execution_count": 211,
   "id": "6b2ffe75",
   "metadata": {
    "scrolled": true
   },
   "outputs": [
    {
     "name": "stdout",
     "output_type": "stream",
     "text": [
      "Test r2 with Best Model: 0.5618035593532283\n",
      "Train r2 with Best Model: 0.6207901283613498\n",
      "Mean Squared Error (Test) with Best Model: 83364668.2182178\n",
      "Mean Squared Error (Train) with Best Model: 57008220.22582776\n"
     ]
    }
   ],
   "source": [
    "print(\"Test r2 with Best Model:\", test_r2_score)\n",
    "print(\"Train r2 with Best Model:\", train_r2_score)\n",
    "print(\"Mean Squared Error (Test) with Best Model:\", mse_test)\n",
    "print(\"Mean Squared Error (Train) with Best Model:\", mse_train)"
   ]
  },
  {
   "cell_type": "markdown",
   "id": "2c7c44f3",
   "metadata": {},
   "source": [
    "\n",
    "## Observations:\n",
    "\n",
    "With the best model identified through Grid Search:\n",
    "- Test R-squared (0.5618) indicates a substantial capture of variance in the dependent variable (CTC) for new data.\n",
    "- Train R-squared (0.6208) signifies reasonable explanatory power within the training data.\n",
    "- Mean Squared Error (Test) of 83,364,668.22 quantifies prediction accuracy for the test set.\n",
    "- Mean Squared Error (Train) of 57,008,220.23 represents average squared differences for the training set.\n",
    "\n",
    "##  Analysis:\n",
    "\n",
    "While the Grid Search model performs reasonably well, the difference between Test and Train R-squared values suggests potential challenges in generalization. The higher Train R-squared indicates good fit to the training data, but the observed drop in Test R-squared raises concerns about adaptability to new observations. Additionally, the MSE values highlight areas for improvement, indicating a need for further refinement to achieve optimal model performance.\n"
   ]
  },
  {
   "cell_type": "markdown",
   "id": "e5443d54",
   "metadata": {},
   "source": [
    " "
   ]
  },
  {
   "cell_type": "markdown",
   "id": "ada29ea7",
   "metadata": {},
   "source": [
    " \n",
    " "
   ]
  },
  {
   "cell_type": "markdown",
   "id": "fc1465da",
   "metadata": {},
   "source": [
    " "
   ]
  },
  {
   "cell_type": "markdown",
   "id": "4dbd118f",
   "metadata": {},
   "source": [
    "# Random Forest:\n",
    "\n",
    "Random Forest is an ensemble learning technique known for its versatility and robustness. By aggregating predictions from multiple decision trees, it excels in handling complex datasets, mitigating overfitting, and delivering accurate results. Widely regarded for its effectiveness, Random Forest is a popular choice across various machine learning applications.\n"
   ]
  },
  {
   "cell_type": "code",
   "execution_count": 212,
   "id": "6436de79",
   "metadata": {},
   "outputs": [],
   "source": [
    "from sklearn.ensemble import RandomForestRegressor\n",
    "from sklearn.preprocessing import StandardScaler\n",
    "from sklearn.model_selection import  cross_val_score"
   ]
  },
  {
   "cell_type": "code",
   "execution_count": 213,
   "id": "ae64cc26",
   "metadata": {},
   "outputs": [],
   "source": [
    "# Scaling (standardization)\n",
    "scaler = StandardScaler()\n",
    "X_train_scaled = scaler.fit_transform(x_train)\n",
    "X_test_scaled = scaler.transform(x_test)"
   ]
  },
  {
   "cell_type": "code",
   "execution_count": 214,
   "id": "9027542c",
   "metadata": {},
   "outputs": [],
   "source": [
    "# Random Forest model with hyperparameter tuning and regularization\n",
    "random_forest_model = RandomForestRegressor(\n",
    "    n_estimators=1000,       # Number of trees in the forest\n",
    "    max_depth=10,            # Maximum depth of the tree\n",
    "    min_samples_split=2,     # Minimum number of samples required to split an internal node\n",
    "    min_samples_leaf=1,      # Minimum number of samples required to be at a leaf node\n",
    "    random_state=42          # Random seed for reproducibility\n",
    ")"
   ]
  },
  {
   "cell_type": "code",
   "execution_count": 215,
   "id": "bb08711e",
   "metadata": {},
   "outputs": [],
   "source": [
    "# Cross-validation to evaluate the model's performance\n",
    "cv_scores = cross_val_score(random_forest_model, X_train_scaled, y_train, cv=5)"
   ]
  },
  {
   "cell_type": "code",
   "execution_count": 216,
   "id": "9bdbf515",
   "metadata": {},
   "outputs": [
    {
     "data": {
      "text/html": [
       "<style>#sk-container-id-16 {color: black;}#sk-container-id-16 pre{padding: 0;}#sk-container-id-16 div.sk-toggleable {background-color: white;}#sk-container-id-16 label.sk-toggleable__label {cursor: pointer;display: block;width: 100%;margin-bottom: 0;padding: 0.3em;box-sizing: border-box;text-align: center;}#sk-container-id-16 label.sk-toggleable__label-arrow:before {content: \"▸\";float: left;margin-right: 0.25em;color: #696969;}#sk-container-id-16 label.sk-toggleable__label-arrow:hover:before {color: black;}#sk-container-id-16 div.sk-estimator:hover label.sk-toggleable__label-arrow:before {color: black;}#sk-container-id-16 div.sk-toggleable__content {max-height: 0;max-width: 0;overflow: hidden;text-align: left;background-color: #f0f8ff;}#sk-container-id-16 div.sk-toggleable__content pre {margin: 0.2em;color: black;border-radius: 0.25em;background-color: #f0f8ff;}#sk-container-id-16 input.sk-toggleable__control:checked~div.sk-toggleable__content {max-height: 200px;max-width: 100%;overflow: auto;}#sk-container-id-16 input.sk-toggleable__control:checked~label.sk-toggleable__label-arrow:before {content: \"▾\";}#sk-container-id-16 div.sk-estimator input.sk-toggleable__control:checked~label.sk-toggleable__label {background-color: #d4ebff;}#sk-container-id-16 div.sk-label input.sk-toggleable__control:checked~label.sk-toggleable__label {background-color: #d4ebff;}#sk-container-id-16 input.sk-hidden--visually {border: 0;clip: rect(1px 1px 1px 1px);clip: rect(1px, 1px, 1px, 1px);height: 1px;margin: -1px;overflow: hidden;padding: 0;position: absolute;width: 1px;}#sk-container-id-16 div.sk-estimator {font-family: monospace;background-color: #f0f8ff;border: 1px dotted black;border-radius: 0.25em;box-sizing: border-box;margin-bottom: 0.5em;}#sk-container-id-16 div.sk-estimator:hover {background-color: #d4ebff;}#sk-container-id-16 div.sk-parallel-item::after {content: \"\";width: 100%;border-bottom: 1px solid gray;flex-grow: 1;}#sk-container-id-16 div.sk-label:hover label.sk-toggleable__label {background-color: #d4ebff;}#sk-container-id-16 div.sk-serial::before {content: \"\";position: absolute;border-left: 1px solid gray;box-sizing: border-box;top: 0;bottom: 0;left: 50%;z-index: 0;}#sk-container-id-16 div.sk-serial {display: flex;flex-direction: column;align-items: center;background-color: white;padding-right: 0.2em;padding-left: 0.2em;position: relative;}#sk-container-id-16 div.sk-item {position: relative;z-index: 1;}#sk-container-id-16 div.sk-parallel {display: flex;align-items: stretch;justify-content: center;background-color: white;position: relative;}#sk-container-id-16 div.sk-item::before, #sk-container-id-16 div.sk-parallel-item::before {content: \"\";position: absolute;border-left: 1px solid gray;box-sizing: border-box;top: 0;bottom: 0;left: 50%;z-index: -1;}#sk-container-id-16 div.sk-parallel-item {display: flex;flex-direction: column;z-index: 1;position: relative;background-color: white;}#sk-container-id-16 div.sk-parallel-item:first-child::after {align-self: flex-end;width: 50%;}#sk-container-id-16 div.sk-parallel-item:last-child::after {align-self: flex-start;width: 50%;}#sk-container-id-16 div.sk-parallel-item:only-child::after {width: 0;}#sk-container-id-16 div.sk-dashed-wrapped {border: 1px dashed gray;margin: 0 0.4em 0.5em 0.4em;box-sizing: border-box;padding-bottom: 0.4em;background-color: white;}#sk-container-id-16 div.sk-label label {font-family: monospace;font-weight: bold;display: inline-block;line-height: 1.2em;}#sk-container-id-16 div.sk-label-container {text-align: center;}#sk-container-id-16 div.sk-container {/* jupyter's `normalize.less` sets `[hidden] { display: none; }` but bootstrap.min.css set `[hidden] { display: none !important; }` so we also need the `!important` here to be able to override the default hidden behavior on the sphinx rendered scikit-learn.org. See: https://github.com/scikit-learn/scikit-learn/issues/21755 */display: inline-block !important;position: relative;}#sk-container-id-16 div.sk-text-repr-fallback {display: none;}</style><div id=\"sk-container-id-16\" class=\"sk-top-container\"><div class=\"sk-text-repr-fallback\"><pre>RandomForestRegressor(n_estimators=1000, random_state=42)</pre><b>In a Jupyter environment, please rerun this cell to show the HTML representation or trust the notebook. <br />On GitHub, the HTML representation is unable to render, please try loading this page with nbviewer.org.</b></div><div class=\"sk-container\" hidden><div class=\"sk-item\"><div class=\"sk-estimator sk-toggleable\"><input class=\"sk-toggleable__control sk-hidden--visually\" id=\"sk-estimator-id-22\" type=\"checkbox\" checked><label for=\"sk-estimator-id-22\" class=\"sk-toggleable__label sk-toggleable__label-arrow\">RandomForestRegressor</label><div class=\"sk-toggleable__content\"><pre>RandomForestRegressor(n_estimators=1000, random_state=42)</pre></div></div></div></div></div>"
      ],
      "text/plain": [
       "RandomForestRegressor(n_estimators=1000, random_state=42)"
      ]
     },
     "execution_count": 216,
     "metadata": {},
     "output_type": "execute_result"
    }
   ],
   "source": [
    "# Train the Random Forest Regressor\n",
    "random_forest_model = RandomForestRegressor(n_estimators=1000, random_state=42)\n",
    "random_forest_model.fit(X_train_scaled, y_train)"
   ]
  },
  {
   "cell_type": "code",
   "execution_count": 217,
   "id": "237d99a9",
   "metadata": {},
   "outputs": [],
   "source": [
    "#Predict y on the test set\n",
    "y_pred = random_forest_model.predict(X_test_scaled)"
   ]
  },
  {
   "cell_type": "code",
   "execution_count": 218,
   "id": "f3eb4ea6",
   "metadata": {
    "scrolled": true
   },
   "outputs": [
    {
     "name": "stdout",
     "output_type": "stream",
     "text": [
      "Random Forest Test r2: 0.6368790873379051\n",
      "Random Forest Train r2: 0.9501845070245194\n",
      "Random Forest Mean Squared Error (MSE): 69081926.7324302\n"
     ]
    }
   ],
   "source": [
    "test_r2_score = r2_score(y_test, y_pred)\n",
    "train_r2_score = r2_score(y_train, random_forest_model.predict(X_train_scaled))\n",
    "mse = mean_squared_error(y_test, y_pred)\n",
    "\n",
    "\n",
    "print(\"Random Forest Test r2:\", test_r2_score)\n",
    "print(\"Random Forest Train r2:\", train_r2_score)\n",
    "print(\"Random Forest Mean Squared Error (MSE):\", mse)"
   ]
  },
  {
   "cell_type": "code",
   "execution_count": 219,
   "id": "96fd5816",
   "metadata": {},
   "outputs": [],
   "source": [
    "# placing hyperparameters for tuning\n",
    "param_grid = {\n",
    "    'n_estimators': [50, 100, 200],\n",
    "    'max_depth': [None, 10, 20],\n",
    "    'min_samples_split': [2, 5, 10],\n",
    "    'min_samples_leaf': [1, 2, 4]\n",
    "}\n"
   ]
  },
  {
   "cell_type": "code",
   "execution_count": 220,
   "id": "4fef367b",
   "metadata": {},
   "outputs": [
    {
     "data": {
      "text/html": [
       "<style>#sk-container-id-17 {color: black;}#sk-container-id-17 pre{padding: 0;}#sk-container-id-17 div.sk-toggleable {background-color: white;}#sk-container-id-17 label.sk-toggleable__label {cursor: pointer;display: block;width: 100%;margin-bottom: 0;padding: 0.3em;box-sizing: border-box;text-align: center;}#sk-container-id-17 label.sk-toggleable__label-arrow:before {content: \"▸\";float: left;margin-right: 0.25em;color: #696969;}#sk-container-id-17 label.sk-toggleable__label-arrow:hover:before {color: black;}#sk-container-id-17 div.sk-estimator:hover label.sk-toggleable__label-arrow:before {color: black;}#sk-container-id-17 div.sk-toggleable__content {max-height: 0;max-width: 0;overflow: hidden;text-align: left;background-color: #f0f8ff;}#sk-container-id-17 div.sk-toggleable__content pre {margin: 0.2em;color: black;border-radius: 0.25em;background-color: #f0f8ff;}#sk-container-id-17 input.sk-toggleable__control:checked~div.sk-toggleable__content {max-height: 200px;max-width: 100%;overflow: auto;}#sk-container-id-17 input.sk-toggleable__control:checked~label.sk-toggleable__label-arrow:before {content: \"▾\";}#sk-container-id-17 div.sk-estimator input.sk-toggleable__control:checked~label.sk-toggleable__label {background-color: #d4ebff;}#sk-container-id-17 div.sk-label input.sk-toggleable__control:checked~label.sk-toggleable__label {background-color: #d4ebff;}#sk-container-id-17 input.sk-hidden--visually {border: 0;clip: rect(1px 1px 1px 1px);clip: rect(1px, 1px, 1px, 1px);height: 1px;margin: -1px;overflow: hidden;padding: 0;position: absolute;width: 1px;}#sk-container-id-17 div.sk-estimator {font-family: monospace;background-color: #f0f8ff;border: 1px dotted black;border-radius: 0.25em;box-sizing: border-box;margin-bottom: 0.5em;}#sk-container-id-17 div.sk-estimator:hover {background-color: #d4ebff;}#sk-container-id-17 div.sk-parallel-item::after {content: \"\";width: 100%;border-bottom: 1px solid gray;flex-grow: 1;}#sk-container-id-17 div.sk-label:hover label.sk-toggleable__label {background-color: #d4ebff;}#sk-container-id-17 div.sk-serial::before {content: \"\";position: absolute;border-left: 1px solid gray;box-sizing: border-box;top: 0;bottom: 0;left: 50%;z-index: 0;}#sk-container-id-17 div.sk-serial {display: flex;flex-direction: column;align-items: center;background-color: white;padding-right: 0.2em;padding-left: 0.2em;position: relative;}#sk-container-id-17 div.sk-item {position: relative;z-index: 1;}#sk-container-id-17 div.sk-parallel {display: flex;align-items: stretch;justify-content: center;background-color: white;position: relative;}#sk-container-id-17 div.sk-item::before, #sk-container-id-17 div.sk-parallel-item::before {content: \"\";position: absolute;border-left: 1px solid gray;box-sizing: border-box;top: 0;bottom: 0;left: 50%;z-index: -1;}#sk-container-id-17 div.sk-parallel-item {display: flex;flex-direction: column;z-index: 1;position: relative;background-color: white;}#sk-container-id-17 div.sk-parallel-item:first-child::after {align-self: flex-end;width: 50%;}#sk-container-id-17 div.sk-parallel-item:last-child::after {align-self: flex-start;width: 50%;}#sk-container-id-17 div.sk-parallel-item:only-child::after {width: 0;}#sk-container-id-17 div.sk-dashed-wrapped {border: 1px dashed gray;margin: 0 0.4em 0.5em 0.4em;box-sizing: border-box;padding-bottom: 0.4em;background-color: white;}#sk-container-id-17 div.sk-label label {font-family: monospace;font-weight: bold;display: inline-block;line-height: 1.2em;}#sk-container-id-17 div.sk-label-container {text-align: center;}#sk-container-id-17 div.sk-container {/* jupyter's `normalize.less` sets `[hidden] { display: none; }` but bootstrap.min.css set `[hidden] { display: none !important; }` so we also need the `!important` here to be able to override the default hidden behavior on the sphinx rendered scikit-learn.org. See: https://github.com/scikit-learn/scikit-learn/issues/21755 */display: inline-block !important;position: relative;}#sk-container-id-17 div.sk-text-repr-fallback {display: none;}</style><div id=\"sk-container-id-17\" class=\"sk-top-container\"><div class=\"sk-text-repr-fallback\"><pre>GridSearchCV(cv=5,\n",
       "             estimator=RandomForestRegressor(n_estimators=1000,\n",
       "                                             random_state=42),\n",
       "             param_grid={&#x27;max_depth&#x27;: [None, 10, 20],\n",
       "                         &#x27;min_samples_leaf&#x27;: [1, 2, 4],\n",
       "                         &#x27;min_samples_split&#x27;: [2, 5, 10],\n",
       "                         &#x27;n_estimators&#x27;: [50, 100, 200]})</pre><b>In a Jupyter environment, please rerun this cell to show the HTML representation or trust the notebook. <br />On GitHub, the HTML representation is unable to render, please try loading this page with nbviewer.org.</b></div><div class=\"sk-container\" hidden><div class=\"sk-item sk-dashed-wrapped\"><div class=\"sk-label-container\"><div class=\"sk-label sk-toggleable\"><input class=\"sk-toggleable__control sk-hidden--visually\" id=\"sk-estimator-id-23\" type=\"checkbox\" ><label for=\"sk-estimator-id-23\" class=\"sk-toggleable__label sk-toggleable__label-arrow\">GridSearchCV</label><div class=\"sk-toggleable__content\"><pre>GridSearchCV(cv=5,\n",
       "             estimator=RandomForestRegressor(n_estimators=1000,\n",
       "                                             random_state=42),\n",
       "             param_grid={&#x27;max_depth&#x27;: [None, 10, 20],\n",
       "                         &#x27;min_samples_leaf&#x27;: [1, 2, 4],\n",
       "                         &#x27;min_samples_split&#x27;: [2, 5, 10],\n",
       "                         &#x27;n_estimators&#x27;: [50, 100, 200]})</pre></div></div></div><div class=\"sk-parallel\"><div class=\"sk-parallel-item\"><div class=\"sk-item\"><div class=\"sk-label-container\"><div class=\"sk-label sk-toggleable\"><input class=\"sk-toggleable__control sk-hidden--visually\" id=\"sk-estimator-id-24\" type=\"checkbox\" ><label for=\"sk-estimator-id-24\" class=\"sk-toggleable__label sk-toggleable__label-arrow\">estimator: RandomForestRegressor</label><div class=\"sk-toggleable__content\"><pre>RandomForestRegressor(n_estimators=1000, random_state=42)</pre></div></div></div><div class=\"sk-serial\"><div class=\"sk-item\"><div class=\"sk-estimator sk-toggleable\"><input class=\"sk-toggleable__control sk-hidden--visually\" id=\"sk-estimator-id-25\" type=\"checkbox\" ><label for=\"sk-estimator-id-25\" class=\"sk-toggleable__label sk-toggleable__label-arrow\">RandomForestRegressor</label><div class=\"sk-toggleable__content\"><pre>RandomForestRegressor(n_estimators=1000, random_state=42)</pre></div></div></div></div></div></div></div></div></div></div>"
      ],
      "text/plain": [
       "GridSearchCV(cv=5,\n",
       "             estimator=RandomForestRegressor(n_estimators=1000,\n",
       "                                             random_state=42),\n",
       "             param_grid={'max_depth': [None, 10, 20],\n",
       "                         'min_samples_leaf': [1, 2, 4],\n",
       "                         'min_samples_split': [2, 5, 10],\n",
       "                         'n_estimators': [50, 100, 200]})"
      ]
     },
     "execution_count": 220,
     "metadata": {},
     "output_type": "execute_result"
    }
   ],
   "source": [
    "# using Grid Search with 5  cross-validations\n",
    "grid_search_r = GridSearchCV(estimator=random_forest_model,\n",
    "                             param_grid=param_grid, cv=5)\n",
    "grid_search_r.fit(X_train_scaled, y_train)"
   ]
  },
  {
   "cell_type": "code",
   "execution_count": 221,
   "id": "df4c7450",
   "metadata": {},
   "outputs": [],
   "source": [
    "# obtaining best model from the grid search\n",
    "best_rf_model = grid_search_r.best_estimator_\n",
    "\n",
    "#Predict y on the test set\n",
    "y_pred = best_rf_model.predict(X_test_scaled)"
   ]
  },
  {
   "cell_type": "code",
   "execution_count": 222,
   "id": "95b3af5c",
   "metadata": {
    "scrolled": false
   },
   "outputs": [
    {
     "name": "stdout",
     "output_type": "stream",
     "text": [
      "Best Hyperparameters: {'max_depth': None, 'min_samples_leaf': 1, 'min_samples_split': 2, 'n_estimators': 200}\n",
      "Test R-squared Score (After Hyperparameter Tuning): 0.6390142699636836\n",
      "Train R-squared Score (After Hyperparameter Tuning): 0.9490722760071735\n",
      "Test MSE (After Hyperparameter Tuning): 68675718.98021615\n"
     ]
    }
   ],
   "source": [
    "# Calculate r2 score on the test set\n",
    "test_r2_score = r2_score(y_test, y_pred)\n",
    "train_r2_score = r2_score(y_train, best_rf_model.predict(X_train_scaled))\n",
    "mse = mean_squared_error(y_test, y_pred)\n",
    "\n",
    "print(\"Best Hyperparameters:\", grid_search_r.best_params_)\n",
    "print(\"Test R-squared Score (After Hyperparameter Tuning):\", test_r2_score)\n",
    "print(\"Train R-squared Score (After Hyperparameter Tuning):\", train_r2_score)\n",
    "print(\"Test MSE (After Hyperparameter Tuning):\", mse)"
   ]
  },
  {
   "cell_type": "markdown",
   "id": "2f3b2e3c",
   "metadata": {},
   "source": [
    "\n",
    "## Observations:\n",
    "Post hyperparameter tuning, the Random Forest model showcases significant enhancements:\n",
    "- Best Hyperparameters: {'max_depth': None, 'min_samples_leaf': 1, 'min_samples_split': 2, 'n_estimators': 200}.\n",
    "- Test R-squared Score (0.6390): Reflecting improved variance capture for new data.\n",
    "- Train R-squared Score (0.9491): Demonstrating a robust fit to the training data and strong explanatory power.\n",
    "- Test Mean Squared Error (MSE) of 68,675,718.98: Indicating enhanced prediction accuracy for the test set.\n",
    "\n",
    "## Analysis:\n",
    "The Random Forest model's effectiveness is apparent in:\n",
    "- **Optimized Variance Capture:** The higher Test R-squared signifies improved ability to capture intricate patterns in the dependent variable (CTC) for unseen data.\n",
    "- **Robust Fit and Explanatory Power:** The elevated Train R-squared highlights a well-fitted model to the training data, showcasing its capacity to explain observed variability and adaptability to different datasets.\n",
    "- **Streamlined Prediction Accuracy:** The reduced Test MSE underscores the model's efficacy in making accurate predictions for the test set.\n",
    "\n",
    "The carefully selected combination of hyperparameters contributes to the Random Forest's success, creating a resilient and high-performing model. The ensemble learning approach, combined with fine-tuned parameters, positions Random Forest as a standout performer in predictive analytics.\n"
   ]
  },
  {
   "cell_type": "markdown",
   "id": "0e366dc5",
   "metadata": {},
   "source": [
    " "
   ]
  },
  {
   "cell_type": "markdown",
   "id": "2dc2652e",
   "metadata": {},
   "source": [
    " "
   ]
  },
  {
   "cell_type": "markdown",
   "id": "5bc185e1",
   "metadata": {},
   "source": [
    " "
   ]
  },
  {
   "cell_type": "markdown",
   "id": "b82ab689",
   "metadata": {},
   "source": [
    "# Gradient Boosting:\n",
    "\n",
    "Gradient Boosting is an ensemble learning technique that builds a predictive model in a stage-wise fashion. It combines the predictions of multiple weak learners (typically decision trees) to create a robust and accurate model. In each stage, the algorithm corrects the errors of the previous model, focusing on instances where predictions fall short. This iterative process continues, gradually improving the model's predictive performan\n"
   ]
  },
  {
   "cell_type": "code",
   "execution_count": 223,
   "id": "dc4e3f00",
   "metadata": {},
   "outputs": [],
   "source": [
    "from sklearn.ensemble import GradientBoostingRegressor"
   ]
  },
  {
   "cell_type": "code",
   "execution_count": 224,
   "id": "67d09178",
   "metadata": {},
   "outputs": [],
   "source": [
    "gbc_reg = GradientBoostingRegressor(n_estimators=1000, learning_rate=0.1, random_state=42)"
   ]
  },
  {
   "cell_type": "markdown",
   "id": "92022201",
   "metadata": {},
   "source": [
    "#### GradientBoostingRegressor Parameters that used here:\n",
    "\n",
    "- `n_estimators=1000`: Number of boosting stages or trees to be built. Higher values may increase model complexity and learning capacity.\n",
    "- `learning_rate=0.1`: Shrinkage applied to each tree's contribution, controlling the step size during optimization. Smaller values require more trees for similar model performance.\n",
    "- `random_state=42`: Seed for reproducibility, ensuring consistent results when the model is run multiple times with the same data and parameters.\n"
   ]
  },
  {
   "cell_type": "code",
   "execution_count": 225,
   "id": "1f224a11",
   "metadata": {},
   "outputs": [
    {
     "data": {
      "text/html": [
       "<style>#sk-container-id-18 {color: black;}#sk-container-id-18 pre{padding: 0;}#sk-container-id-18 div.sk-toggleable {background-color: white;}#sk-container-id-18 label.sk-toggleable__label {cursor: pointer;display: block;width: 100%;margin-bottom: 0;padding: 0.3em;box-sizing: border-box;text-align: center;}#sk-container-id-18 label.sk-toggleable__label-arrow:before {content: \"▸\";float: left;margin-right: 0.25em;color: #696969;}#sk-container-id-18 label.sk-toggleable__label-arrow:hover:before {color: black;}#sk-container-id-18 div.sk-estimator:hover label.sk-toggleable__label-arrow:before {color: black;}#sk-container-id-18 div.sk-toggleable__content {max-height: 0;max-width: 0;overflow: hidden;text-align: left;background-color: #f0f8ff;}#sk-container-id-18 div.sk-toggleable__content pre {margin: 0.2em;color: black;border-radius: 0.25em;background-color: #f0f8ff;}#sk-container-id-18 input.sk-toggleable__control:checked~div.sk-toggleable__content {max-height: 200px;max-width: 100%;overflow: auto;}#sk-container-id-18 input.sk-toggleable__control:checked~label.sk-toggleable__label-arrow:before {content: \"▾\";}#sk-container-id-18 div.sk-estimator input.sk-toggleable__control:checked~label.sk-toggleable__label {background-color: #d4ebff;}#sk-container-id-18 div.sk-label input.sk-toggleable__control:checked~label.sk-toggleable__label {background-color: #d4ebff;}#sk-container-id-18 input.sk-hidden--visually {border: 0;clip: rect(1px 1px 1px 1px);clip: rect(1px, 1px, 1px, 1px);height: 1px;margin: -1px;overflow: hidden;padding: 0;position: absolute;width: 1px;}#sk-container-id-18 div.sk-estimator {font-family: monospace;background-color: #f0f8ff;border: 1px dotted black;border-radius: 0.25em;box-sizing: border-box;margin-bottom: 0.5em;}#sk-container-id-18 div.sk-estimator:hover {background-color: #d4ebff;}#sk-container-id-18 div.sk-parallel-item::after {content: \"\";width: 100%;border-bottom: 1px solid gray;flex-grow: 1;}#sk-container-id-18 div.sk-label:hover label.sk-toggleable__label {background-color: #d4ebff;}#sk-container-id-18 div.sk-serial::before {content: \"\";position: absolute;border-left: 1px solid gray;box-sizing: border-box;top: 0;bottom: 0;left: 50%;z-index: 0;}#sk-container-id-18 div.sk-serial {display: flex;flex-direction: column;align-items: center;background-color: white;padding-right: 0.2em;padding-left: 0.2em;position: relative;}#sk-container-id-18 div.sk-item {position: relative;z-index: 1;}#sk-container-id-18 div.sk-parallel {display: flex;align-items: stretch;justify-content: center;background-color: white;position: relative;}#sk-container-id-18 div.sk-item::before, #sk-container-id-18 div.sk-parallel-item::before {content: \"\";position: absolute;border-left: 1px solid gray;box-sizing: border-box;top: 0;bottom: 0;left: 50%;z-index: -1;}#sk-container-id-18 div.sk-parallel-item {display: flex;flex-direction: column;z-index: 1;position: relative;background-color: white;}#sk-container-id-18 div.sk-parallel-item:first-child::after {align-self: flex-end;width: 50%;}#sk-container-id-18 div.sk-parallel-item:last-child::after {align-self: flex-start;width: 50%;}#sk-container-id-18 div.sk-parallel-item:only-child::after {width: 0;}#sk-container-id-18 div.sk-dashed-wrapped {border: 1px dashed gray;margin: 0 0.4em 0.5em 0.4em;box-sizing: border-box;padding-bottom: 0.4em;background-color: white;}#sk-container-id-18 div.sk-label label {font-family: monospace;font-weight: bold;display: inline-block;line-height: 1.2em;}#sk-container-id-18 div.sk-label-container {text-align: center;}#sk-container-id-18 div.sk-container {/* jupyter's `normalize.less` sets `[hidden] { display: none; }` but bootstrap.min.css set `[hidden] { display: none !important; }` so we also need the `!important` here to be able to override the default hidden behavior on the sphinx rendered scikit-learn.org. See: https://github.com/scikit-learn/scikit-learn/issues/21755 */display: inline-block !important;position: relative;}#sk-container-id-18 div.sk-text-repr-fallback {display: none;}</style><div id=\"sk-container-id-18\" class=\"sk-top-container\"><div class=\"sk-text-repr-fallback\"><pre>GradientBoostingRegressor(n_estimators=1000, random_state=42)</pre><b>In a Jupyter environment, please rerun this cell to show the HTML representation or trust the notebook. <br />On GitHub, the HTML representation is unable to render, please try loading this page with nbviewer.org.</b></div><div class=\"sk-container\" hidden><div class=\"sk-item\"><div class=\"sk-estimator sk-toggleable\"><input class=\"sk-toggleable__control sk-hidden--visually\" id=\"sk-estimator-id-26\" type=\"checkbox\" checked><label for=\"sk-estimator-id-26\" class=\"sk-toggleable__label sk-toggleable__label-arrow\">GradientBoostingRegressor</label><div class=\"sk-toggleable__content\"><pre>GradientBoostingRegressor(n_estimators=1000, random_state=42)</pre></div></div></div></div></div>"
      ],
      "text/plain": [
       "GradientBoostingRegressor(n_estimators=1000, random_state=42)"
      ]
     },
     "execution_count": 225,
     "metadata": {},
     "output_type": "execute_result"
    }
   ],
   "source": [
    "gbc_reg.fit(x_train_s, y_train)"
   ]
  },
  {
   "cell_type": "code",
   "execution_count": 226,
   "id": "73895bcc",
   "metadata": {},
   "outputs": [],
   "source": [
    "#Predict y on the test set\n",
    "y_pred = gbc_reg.predict(x_test_s)"
   ]
  },
  {
   "cell_type": "code",
   "execution_count": 227,
   "id": "b5068152",
   "metadata": {},
   "outputs": [],
   "source": [
    "# model evaluation\n",
    "test_r2_score = r2_score(y_test, y_pred)\n",
    "train_r2_score = r2_score(y_train, gbc_reg.predict(x_train_s))\n",
    "mse = mean_squared_error(y_test, y_pred)\n"
   ]
  },
  {
   "cell_type": "code",
   "execution_count": 228,
   "id": "14aeffde",
   "metadata": {
    "scrolled": true
   },
   "outputs": [
    {
     "name": "stdout",
     "output_type": "stream",
     "text": [
      "Gradient Boosting Test r2: 0.6447831947605608\n",
      "Gradient Boosting Train r2: 0.9461178456190225\n",
      "Gradient Boosting Mean Squared Error (MSE): 67578210.06170993\n"
     ]
    }
   ],
   "source": [
    "print(\"Gradient Boosting Test r2:\", test_r2_score)\n",
    "print(\"Gradient Boosting Train r2:\", train_r2_score)\n",
    "print(\"Gradient Boosting Mean Squared Error (MSE):\", mse)"
   ]
  },
  {
   "cell_type": "markdown",
   "id": "ab55b40d",
   "metadata": {},
   "source": [
    "## Observation:\n",
    "The Gradient Boosting model produces compelling outcomes:\n",
    "- Test R-squared: 0.6448\n",
    "- Train R-squared: 0.9461\n",
    "- Mean Squared Error (MSE): 67,578,210.06\n",
    "\n",
    "## Analysis:\n",
    "- **Enhanced Variance Capture:** The higher Test R-squared indicates improved ability to capture intricate patterns in CTC for new, unseen data, showcasing the model's effectiveness.\n",
    "- **Robust Fit and Explanatory Power:** The elevated Train R-squared suggests a well-fitted model to the training data, with a strong capacity to explain observed variability.\n",
    "- **Reduced Prediction Error:** The lower MSE underscores the model's efficacy in making accurate predictions for the test set.\n",
    "\n",
    "## Summary:\n",
    "The Gradient Boosting model, featuring optimal parameters, surpasses expectations by delivering a well-fitted, robust solution. The collective metrics highlight its enhanced predictive accuracy, positioning it as a high-performing algorithm for predicting CTC.\n"
   ]
  },
  {
   "cell_type": "markdown",
   "id": "cb16a434",
   "metadata": {},
   "source": [
    " "
   ]
  },
  {
   "cell_type": "markdown",
   "id": "2a92e227",
   "metadata": {},
   "source": [
    " "
   ]
  },
  {
   "cell_type": "markdown",
   "id": "5cdfa55f",
   "metadata": {},
   "source": [
    " "
   ]
  },
  {
   "cell_type": "markdown",
   "id": "94cf5d78",
   "metadata": {},
   "source": [
    "# AdaBoost:\n",
    "AdaBoost is an ensemble learning algorithm that combines weak learners sequentially, assigning more weight to misclassified instances, to create a strong and accurate predictive model.\n"
   ]
  },
  {
   "cell_type": "code",
   "execution_count": 229,
   "id": "20b4c116",
   "metadata": {},
   "outputs": [],
   "source": [
    "from sklearn.ensemble import AdaBoostRegressor"
   ]
  },
  {
   "cell_type": "code",
   "execution_count": 230,
   "id": "8af7ffbd",
   "metadata": {},
   "outputs": [],
   "source": [
    "ada_reg = AdaBoostRegressor( n_estimators=100, learning_rate=0.1, random_state=42)"
   ]
  },
  {
   "cell_type": "code",
   "execution_count": 231,
   "id": "d78ba8ce",
   "metadata": {
    "scrolled": true
   },
   "outputs": [
    {
     "data": {
      "text/html": [
       "<style>#sk-container-id-19 {color: black;}#sk-container-id-19 pre{padding: 0;}#sk-container-id-19 div.sk-toggleable {background-color: white;}#sk-container-id-19 label.sk-toggleable__label {cursor: pointer;display: block;width: 100%;margin-bottom: 0;padding: 0.3em;box-sizing: border-box;text-align: center;}#sk-container-id-19 label.sk-toggleable__label-arrow:before {content: \"▸\";float: left;margin-right: 0.25em;color: #696969;}#sk-container-id-19 label.sk-toggleable__label-arrow:hover:before {color: black;}#sk-container-id-19 div.sk-estimator:hover label.sk-toggleable__label-arrow:before {color: black;}#sk-container-id-19 div.sk-toggleable__content {max-height: 0;max-width: 0;overflow: hidden;text-align: left;background-color: #f0f8ff;}#sk-container-id-19 div.sk-toggleable__content pre {margin: 0.2em;color: black;border-radius: 0.25em;background-color: #f0f8ff;}#sk-container-id-19 input.sk-toggleable__control:checked~div.sk-toggleable__content {max-height: 200px;max-width: 100%;overflow: auto;}#sk-container-id-19 input.sk-toggleable__control:checked~label.sk-toggleable__label-arrow:before {content: \"▾\";}#sk-container-id-19 div.sk-estimator input.sk-toggleable__control:checked~label.sk-toggleable__label {background-color: #d4ebff;}#sk-container-id-19 div.sk-label input.sk-toggleable__control:checked~label.sk-toggleable__label {background-color: #d4ebff;}#sk-container-id-19 input.sk-hidden--visually {border: 0;clip: rect(1px 1px 1px 1px);clip: rect(1px, 1px, 1px, 1px);height: 1px;margin: -1px;overflow: hidden;padding: 0;position: absolute;width: 1px;}#sk-container-id-19 div.sk-estimator {font-family: monospace;background-color: #f0f8ff;border: 1px dotted black;border-radius: 0.25em;box-sizing: border-box;margin-bottom: 0.5em;}#sk-container-id-19 div.sk-estimator:hover {background-color: #d4ebff;}#sk-container-id-19 div.sk-parallel-item::after {content: \"\";width: 100%;border-bottom: 1px solid gray;flex-grow: 1;}#sk-container-id-19 div.sk-label:hover label.sk-toggleable__label {background-color: #d4ebff;}#sk-container-id-19 div.sk-serial::before {content: \"\";position: absolute;border-left: 1px solid gray;box-sizing: border-box;top: 0;bottom: 0;left: 50%;z-index: 0;}#sk-container-id-19 div.sk-serial {display: flex;flex-direction: column;align-items: center;background-color: white;padding-right: 0.2em;padding-left: 0.2em;position: relative;}#sk-container-id-19 div.sk-item {position: relative;z-index: 1;}#sk-container-id-19 div.sk-parallel {display: flex;align-items: stretch;justify-content: center;background-color: white;position: relative;}#sk-container-id-19 div.sk-item::before, #sk-container-id-19 div.sk-parallel-item::before {content: \"\";position: absolute;border-left: 1px solid gray;box-sizing: border-box;top: 0;bottom: 0;left: 50%;z-index: -1;}#sk-container-id-19 div.sk-parallel-item {display: flex;flex-direction: column;z-index: 1;position: relative;background-color: white;}#sk-container-id-19 div.sk-parallel-item:first-child::after {align-self: flex-end;width: 50%;}#sk-container-id-19 div.sk-parallel-item:last-child::after {align-self: flex-start;width: 50%;}#sk-container-id-19 div.sk-parallel-item:only-child::after {width: 0;}#sk-container-id-19 div.sk-dashed-wrapped {border: 1px dashed gray;margin: 0 0.4em 0.5em 0.4em;box-sizing: border-box;padding-bottom: 0.4em;background-color: white;}#sk-container-id-19 div.sk-label label {font-family: monospace;font-weight: bold;display: inline-block;line-height: 1.2em;}#sk-container-id-19 div.sk-label-container {text-align: center;}#sk-container-id-19 div.sk-container {/* jupyter's `normalize.less` sets `[hidden] { display: none; }` but bootstrap.min.css set `[hidden] { display: none !important; }` so we also need the `!important` here to be able to override the default hidden behavior on the sphinx rendered scikit-learn.org. See: https://github.com/scikit-learn/scikit-learn/issues/21755 */display: inline-block !important;position: relative;}#sk-container-id-19 div.sk-text-repr-fallback {display: none;}</style><div id=\"sk-container-id-19\" class=\"sk-top-container\"><div class=\"sk-text-repr-fallback\"><pre>AdaBoostRegressor(learning_rate=0.1, n_estimators=100, random_state=42)</pre><b>In a Jupyter environment, please rerun this cell to show the HTML representation or trust the notebook. <br />On GitHub, the HTML representation is unable to render, please try loading this page with nbviewer.org.</b></div><div class=\"sk-container\" hidden><div class=\"sk-item\"><div class=\"sk-estimator sk-toggleable\"><input class=\"sk-toggleable__control sk-hidden--visually\" id=\"sk-estimator-id-27\" type=\"checkbox\" checked><label for=\"sk-estimator-id-27\" class=\"sk-toggleable__label sk-toggleable__label-arrow\">AdaBoostRegressor</label><div class=\"sk-toggleable__content\"><pre>AdaBoostRegressor(learning_rate=0.1, n_estimators=100, random_state=42)</pre></div></div></div></div></div>"
      ],
      "text/plain": [
       "AdaBoostRegressor(learning_rate=0.1, n_estimators=100, random_state=42)"
      ]
     },
     "execution_count": 231,
     "metadata": {},
     "output_type": "execute_result"
    }
   ],
   "source": [
    "ada_reg.fit(x_train,y_train)"
   ]
  },
  {
   "cell_type": "code",
   "execution_count": 232,
   "id": "2b9c37c3",
   "metadata": {},
   "outputs": [
    {
     "name": "stderr",
     "output_type": "stream",
     "text": [
      "C:\\ProgramData\\anaconda3\\Lib\\site-packages\\sklearn\\base.py:464: UserWarning: X does not have valid feature names, but AdaBoostRegressor was fitted with feature names\n",
      "  warnings.warn(\n"
     ]
    }
   ],
   "source": [
    "# Predict y on the test set\n",
    "y_pred = ada_reg.predict(x_test_s)"
   ]
  },
  {
   "cell_type": "code",
   "execution_count": 233,
   "id": "159d02a6",
   "metadata": {},
   "outputs": [
    {
     "name": "stderr",
     "output_type": "stream",
     "text": [
      "C:\\ProgramData\\anaconda3\\Lib\\site-packages\\sklearn\\base.py:464: UserWarning: X does not have valid feature names, but AdaBoostRegressor was fitted with feature names\n",
      "  warnings.warn(\n"
     ]
    }
   ],
   "source": [
    "#model evaluation\n",
    "test_r2_score = r2_score(y_test, y_pred)\n",
    "train_r2_score = r2_score(y_train, ada_reg.predict(x_train_s))\n",
    "mse = mean_squared_error(y_test, y_pred)\n"
   ]
  },
  {
   "cell_type": "code",
   "execution_count": 234,
   "id": "4bce164d",
   "metadata": {
    "scrolled": false
   },
   "outputs": [
    {
     "name": "stdout",
     "output_type": "stream",
     "text": [
      "adaboost Test r2: 0.16852170875136396\n",
      "adaboost Train r2: 0.10520056908225572\n",
      "adaboost Mean Squared Error (MSE): 158184561.65066954\n"
     ]
    }
   ],
   "source": [
    "# Print evaluation metrics\n",
    "print(\"adaboost Test r2:\", test_r2_score)\n",
    "print(\"adaboost Train r2:\", train_r2_score)\n",
    "print(\"adaboost Mean Squared Error (MSE):\", mse)"
   ]
  },
  {
   "cell_type": "markdown",
   "id": "03f228db",
   "metadata": {},
   "source": [
    "## Observation:\n",
    "The AdaBoost model displays the following results:\n",
    "- Test R-squared: 0.1685\n",
    "- Train R-squared: 0.1052\n",
    "- Mean Squared Error (MSE): 158,184,561.65\n",
    "\n",
    "## Analysis:\n",
    "- **Limited Predictive Accuracy:** The low Test R-squared suggests challenges in capturing variance in the dependent variable (CTC) for new, unseen data.\n",
    "- **Weak Fit to Training Data:** The relatively low Train R-squared indicates limitations in explaining the observed variability within the training dataset.\n",
    "- **High Prediction Error:** The elevated MSE underscores the model's struggles in accurately predicting CTC, with a notable degree of error.\n",
    "\n",
    "## Summary:\n",
    "AdaBoost, in this instance, exhibits suboptimal predictive performance with a limited ability to capture patterns and explain variability. The higher MSE suggests a significant prediction error, indicating the need for further optimization or consideration of alternative models.\n"
   ]
  },
  {
   "cell_type": "markdown",
   "id": "ccf12429",
   "metadata": {},
   "source": [
    " "
   ]
  },
  {
   "cell_type": "markdown",
   "id": "c874b8ea",
   "metadata": {},
   "source": [
    " "
   ]
  },
  {
   "cell_type": "markdown",
   "id": "06a66aa4",
   "metadata": {},
   "source": [
    " "
   ]
  },
  {
   "cell_type": "markdown",
   "id": "e750cb51",
   "metadata": {},
   "source": [
    "# XGBoost:\n",
    "\n",
    "XGBoost (Extreme Gradient Boosting) is an optimized and scalable gradient boosting algorithm that excels in predictive modeling. It combines the strengths of gradient boosting with regularization techniques and parallel processing, making it highly efficient, accurate, and capable of handling diverse datasets. XGBoost's success lies in its ability to balance model complexity, prevent overfitting, and deliver robust performance across various machine learning tasks.\n"
   ]
  },
  {
   "cell_type": "code",
   "execution_count": 235,
   "id": "f7b6cd1c",
   "metadata": {},
   "outputs": [],
   "source": [
    "import xgboost as xgb"
   ]
  },
  {
   "cell_type": "code",
   "execution_count": 236,
   "id": "689f1ccd",
   "metadata": {},
   "outputs": [],
   "source": [
    "xgb_reg = xgb.XGBRegressor(max_depth=5, n_estimators=10000, learning_rate=0.3,\n",
    "                           n_jobs=-1)"
   ]
  },
  {
   "cell_type": "code",
   "execution_count": 237,
   "id": "d287aa9b",
   "metadata": {},
   "outputs": [
    {
     "data": {
      "text/html": [
       "<style>#sk-container-id-20 {color: black;}#sk-container-id-20 pre{padding: 0;}#sk-container-id-20 div.sk-toggleable {background-color: white;}#sk-container-id-20 label.sk-toggleable__label {cursor: pointer;display: block;width: 100%;margin-bottom: 0;padding: 0.3em;box-sizing: border-box;text-align: center;}#sk-container-id-20 label.sk-toggleable__label-arrow:before {content: \"▸\";float: left;margin-right: 0.25em;color: #696969;}#sk-container-id-20 label.sk-toggleable__label-arrow:hover:before {color: black;}#sk-container-id-20 div.sk-estimator:hover label.sk-toggleable__label-arrow:before {color: black;}#sk-container-id-20 div.sk-toggleable__content {max-height: 0;max-width: 0;overflow: hidden;text-align: left;background-color: #f0f8ff;}#sk-container-id-20 div.sk-toggleable__content pre {margin: 0.2em;color: black;border-radius: 0.25em;background-color: #f0f8ff;}#sk-container-id-20 input.sk-toggleable__control:checked~div.sk-toggleable__content {max-height: 200px;max-width: 100%;overflow: auto;}#sk-container-id-20 input.sk-toggleable__control:checked~label.sk-toggleable__label-arrow:before {content: \"▾\";}#sk-container-id-20 div.sk-estimator input.sk-toggleable__control:checked~label.sk-toggleable__label {background-color: #d4ebff;}#sk-container-id-20 div.sk-label input.sk-toggleable__control:checked~label.sk-toggleable__label {background-color: #d4ebff;}#sk-container-id-20 input.sk-hidden--visually {border: 0;clip: rect(1px 1px 1px 1px);clip: rect(1px, 1px, 1px, 1px);height: 1px;margin: -1px;overflow: hidden;padding: 0;position: absolute;width: 1px;}#sk-container-id-20 div.sk-estimator {font-family: monospace;background-color: #f0f8ff;border: 1px dotted black;border-radius: 0.25em;box-sizing: border-box;margin-bottom: 0.5em;}#sk-container-id-20 div.sk-estimator:hover {background-color: #d4ebff;}#sk-container-id-20 div.sk-parallel-item::after {content: \"\";width: 100%;border-bottom: 1px solid gray;flex-grow: 1;}#sk-container-id-20 div.sk-label:hover label.sk-toggleable__label {background-color: #d4ebff;}#sk-container-id-20 div.sk-serial::before {content: \"\";position: absolute;border-left: 1px solid gray;box-sizing: border-box;top: 0;bottom: 0;left: 50%;z-index: 0;}#sk-container-id-20 div.sk-serial {display: flex;flex-direction: column;align-items: center;background-color: white;padding-right: 0.2em;padding-left: 0.2em;position: relative;}#sk-container-id-20 div.sk-item {position: relative;z-index: 1;}#sk-container-id-20 div.sk-parallel {display: flex;align-items: stretch;justify-content: center;background-color: white;position: relative;}#sk-container-id-20 div.sk-item::before, #sk-container-id-20 div.sk-parallel-item::before {content: \"\";position: absolute;border-left: 1px solid gray;box-sizing: border-box;top: 0;bottom: 0;left: 50%;z-index: -1;}#sk-container-id-20 div.sk-parallel-item {display: flex;flex-direction: column;z-index: 1;position: relative;background-color: white;}#sk-container-id-20 div.sk-parallel-item:first-child::after {align-self: flex-end;width: 50%;}#sk-container-id-20 div.sk-parallel-item:last-child::after {align-self: flex-start;width: 50%;}#sk-container-id-20 div.sk-parallel-item:only-child::after {width: 0;}#sk-container-id-20 div.sk-dashed-wrapped {border: 1px dashed gray;margin: 0 0.4em 0.5em 0.4em;box-sizing: border-box;padding-bottom: 0.4em;background-color: white;}#sk-container-id-20 div.sk-label label {font-family: monospace;font-weight: bold;display: inline-block;line-height: 1.2em;}#sk-container-id-20 div.sk-label-container {text-align: center;}#sk-container-id-20 div.sk-container {/* jupyter's `normalize.less` sets `[hidden] { display: none; }` but bootstrap.min.css set `[hidden] { display: none !important; }` so we also need the `!important` here to be able to override the default hidden behavior on the sphinx rendered scikit-learn.org. See: https://github.com/scikit-learn/scikit-learn/issues/21755 */display: inline-block !important;position: relative;}#sk-container-id-20 div.sk-text-repr-fallback {display: none;}</style><div id=\"sk-container-id-20\" class=\"sk-top-container\"><div class=\"sk-text-repr-fallback\"><pre>XGBRegressor(base_score=None, booster=None, callbacks=None,\n",
       "             colsample_bylevel=None, colsample_bynode=None,\n",
       "             colsample_bytree=None, early_stopping_rounds=None,\n",
       "             enable_categorical=False, eval_metric=None, feature_types=None,\n",
       "             gamma=None, gpu_id=None, grow_policy=None, importance_type=None,\n",
       "             interaction_constraints=None, learning_rate=0.3, max_bin=None,\n",
       "             max_cat_threshold=None, max_cat_to_onehot=None,\n",
       "             max_delta_step=None, max_depth=5, max_leaves=None,\n",
       "             min_child_weight=None, missing=nan, monotone_constraints=None,\n",
       "             n_estimators=10000, n_jobs=-1, num_parallel_tree=None,\n",
       "             predictor=None, random_state=None, ...)</pre><b>In a Jupyter environment, please rerun this cell to show the HTML representation or trust the notebook. <br />On GitHub, the HTML representation is unable to render, please try loading this page with nbviewer.org.</b></div><div class=\"sk-container\" hidden><div class=\"sk-item\"><div class=\"sk-estimator sk-toggleable\"><input class=\"sk-toggleable__control sk-hidden--visually\" id=\"sk-estimator-id-28\" type=\"checkbox\" checked><label for=\"sk-estimator-id-28\" class=\"sk-toggleable__label sk-toggleable__label-arrow\">XGBRegressor</label><div class=\"sk-toggleable__content\"><pre>XGBRegressor(base_score=None, booster=None, callbacks=None,\n",
       "             colsample_bylevel=None, colsample_bynode=None,\n",
       "             colsample_bytree=None, early_stopping_rounds=None,\n",
       "             enable_categorical=False, eval_metric=None, feature_types=None,\n",
       "             gamma=None, gpu_id=None, grow_policy=None, importance_type=None,\n",
       "             interaction_constraints=None, learning_rate=0.3, max_bin=None,\n",
       "             max_cat_threshold=None, max_cat_to_onehot=None,\n",
       "             max_delta_step=None, max_depth=5, max_leaves=None,\n",
       "             min_child_weight=None, missing=nan, monotone_constraints=None,\n",
       "             n_estimators=10000, n_jobs=-1, num_parallel_tree=None,\n",
       "             predictor=None, random_state=None, ...)</pre></div></div></div></div></div>"
      ],
      "text/plain": [
       "XGBRegressor(base_score=None, booster=None, callbacks=None,\n",
       "             colsample_bylevel=None, colsample_bynode=None,\n",
       "             colsample_bytree=None, early_stopping_rounds=None,\n",
       "             enable_categorical=False, eval_metric=None, feature_types=None,\n",
       "             gamma=None, gpu_id=None, grow_policy=None, importance_type=None,\n",
       "             interaction_constraints=None, learning_rate=0.3, max_bin=None,\n",
       "             max_cat_threshold=None, max_cat_to_onehot=None,\n",
       "             max_delta_step=None, max_depth=5, max_leaves=None,\n",
       "             min_child_weight=None, missing=nan, monotone_constraints=None,\n",
       "             n_estimators=10000, n_jobs=-1, num_parallel_tree=None,\n",
       "             predictor=None, random_state=None, ...)"
      ]
     },
     "execution_count": 237,
     "metadata": {},
     "output_type": "execute_result"
    }
   ],
   "source": [
    "xgb_reg.fit(x_train_s,y_train)"
   ]
  },
  {
   "cell_type": "code",
   "execution_count": 238,
   "id": "b2475184",
   "metadata": {},
   "outputs": [],
   "source": [
    "# predictions of y on the test and training sets\n",
    "y_pred_test = xgb_reg.predict(x_test_s)\n",
    "y_pred_train = xgb_reg.predict(x_train_s)"
   ]
  },
  {
   "cell_type": "code",
   "execution_count": 239,
   "id": "b6f77e71",
   "metadata": {
    "scrolled": true
   },
   "outputs": [
    {
     "name": "stdout",
     "output_type": "stream",
     "text": [
      "R2 train: 0.999999999989579\n",
      "R2 test: 0.6013651168189137\n",
      "Mean Squared Error: 75838280.94894888\n"
     ]
    }
   ],
   "source": [
    "# model evaluation\n",
    "test_r2_score = r2_score(y_test, y_pred_test)\n",
    "train_r2_score =r2_score(y_train,y_pred_train)\n",
    "test_mse = mean_squared_error(y_test, y_pred_test)\n",
    "print(f\"R2 train: {train_r2_score:}\")\n",
    "print(f\"R2 test: {test_r2_score:}\")\n",
    "print(f\"Mean Squared Error: {test_mse:}\")"
   ]
  },
  {
   "cell_type": "code",
   "execution_count": 240,
   "id": "1b74aeb3",
   "metadata": {
    "scrolled": false
   },
   "outputs": [
    {
     "data": {
      "text/plain": [
       "<Axes: title={'center': 'Feature importance'}, xlabel='F score', ylabel='Features'>"
      ]
     },
     "execution_count": 240,
     "metadata": {},
     "output_type": "execute_result"
    },
    {
     "data": {
      "image/png": "[encoded data removed]",
      "text/plain": [
       "<Figure size 640x480 with 1 Axes>"
      ]
     },
     "metadata": {},
     "output_type": "display_data"
    }
   ],
   "source": [
    "xgb.plot_importance(xgb_reg)"
   ]
  },
  {
   "cell_type": "markdown",
   "id": "c00569aa",
   "metadata": {},
   "source": [
    "## Observation:\n",
    "The XGBoost model produces the following results:\n",
    "- R-squared (Train): 0.999999999989579\n",
    "- R-squared (Test): 0.6014\n",
    "- Mean Squared Error: 75,838,280.95\n",
    "\n",
    "## Analysis:\n",
    "- **Overfitting to Training Data:** The near-perfect R-squared on the training set (almost 1) suggests potential overfitting, where the model fits the training data too closely.\n",
    "- **Decent Generalization:** The R-squared of 0.6014 on the test set indicates relatively good generalization to new, unseen data.\n",
    "- **Moderate Prediction Accuracy:** The Mean Squared Error of 75,838,280.95 showcases reasonable accuracy in predicting the dependent variable (CTC).\n",
    "\n",
    "## Summary:\n",
    "While the XGBoost model demonstrates exceptional fit to the training data, there is a risk of overfitting. The decent R-squared on the test set suggests good generalization, but careful consideration of model complexity and potential regularization may be needed for optimal performance.\n"
   ]
  },
  {
   "cell_type": "markdown",
   "id": "d602d2e0",
   "metadata": {},
   "source": [
    " "
   ]
  },
  {
   "cell_type": "markdown",
   "id": "ad817cff",
   "metadata": {},
   "source": [
    " "
   ]
  },
  {
   "cell_type": "markdown",
   "id": "6188de81",
   "metadata": {},
   "source": [
    " "
   ]
  },
  {
   "cell_type": "markdown",
   "id": "3ad7130b",
   "metadata": {},
   "source": [
    "## Comparison of models on the basis of theri mse and r2 value"
   ]
  },
  {
   "cell_type": "code",
   "execution_count": 241,
   "id": "d9a81f00",
   "metadata": {},
   "outputs": [],
   "source": [
    "import matplotlib.pyplot as plt\n",
    "\n",
    "#names of the models\n",
    "models = [\n",
    "    \"Linear Regression\",\n",
    "    \"Ridge Regression\",\n",
    "    \"Validation Curve\",\n",
    "    \"Lasso Regression\",\n",
    "    \"KNN Regression\",\n",
    "    \"Grid Search\",\n",
    "    \"Random Forest\",\n",
    "    \"Gradient Boosting\",\n",
    "    \"Ada Boost\",\n",
    "    \"XG Boost\"\n",
    "]"
   ]
  },
  {
   "cell_type": "code",
   "execution_count": 242,
   "id": "91620841",
   "metadata": {},
   "outputs": [],
   "source": [
    "# Mean Squared Error (MSE) values for each model\n",
    "model_mse = [\n",
    "    73950131.2,\n",
    "    77388795.4,\n",
    "   77539092.3,\n",
    "    77388795.4,\n",
    "   83364668.2,\n",
    "   83364668.2,\n",
    "   68675718.9,\n",
    "    67578210.0,\n",
    "   158184561.6,\n",
    "   75838280.5\n",
    "]\n",
    "\n",
    "# R-squared values for each model\n",
    "model_r2 = [\n",
    "    0.5933517,\n",
    "    0.5932150,\n",
    "    0.5924250,\n",
    "    0.5933483,\n",
    "    0.5618035,\n",
    "    0.5618035,\n",
    "    0.6390142,\n",
    "    0.6447821,\n",
    "    0.1685217,\n",
    "    0.6301365\n",
    "]\n"
   ]
  },
  {
   "cell_type": "code",
   "execution_count": 243,
   "id": "fa9e7474",
   "metadata": {
    "scrolled": true
   },
   "outputs": [
    {
     "data": {
      "image/png": "[encoded data removed]",
      "text/plain": [
       "<Figure size 640x480 with 1 Axes>"
      ]
     },
     "metadata": {},
     "output_type": "display_data"
    },
    {
     "data": {
      "image/png": "[encoded data removed]",
      "text/plain": [
       "<Figure size 640x480 with 1 Axes>"
      ]
     },
     "metadata": {},
     "output_type": "display_data"
    }
   ],
   "source": [
    "# Plotting Mean Squared Error for each model\n",
    "\n",
    "plt.bar(models, model_mse)\n",
    "plt.xlabel('Model(MSE)')\n",
    "plt.ylabel('Mean Squared Error')\n",
    "plt.title('Models with MSE')\n",
    "plt.xticks(rotation=45, ha='right')  \n",
    "plt.tight_layout()\n",
    "plt.show()\n",
    "\n",
    "# Plotting R-2for each model\n",
    "\n",
    "plt.bar(models, model_r2)\n",
    "plt.xlabel('Model(r2)')\n",
    "plt.ylabel('R-squared')\n",
    "plt.title('Models with r2')\n",
    "plt.xticks(rotation=45, ha='right')  \n",
    "plt.tight_layout()\n",
    "plt.show()"
   ]
  },
  {
   "cell_type": "markdown",
   "id": "c9db90d9",
   "metadata": {},
   "source": [
    "## Model Selection  basis\n",
    "\n",
    "\n",
    "Selecting a machine learning model based on a high R2 value and a low Mean Squared Error (MSE) is crucial for several reasons. R2, or the Coefficient of Determination, quantifies the proportion of the variance in the dependent variable (target) that the model can predict from the independent variables (features). A high R2 value close to 1 signifies that the model effectively captures the underlying patterns in the data, leading to more reliable predictions. Conversely, a low R2 indicates poor predictive performance, as the model fails to explain a significant portion of the variance.\n",
    "\n",
    "Simultaneously, a low MSE is indicative of accurate predictions. The MSE measures the average squared difference between predicted and actual values, providing a direct assessment of prediction accuracy. A low MSE suggests that the model's forecasts exhibit minimal errors, contributing to its precision in estimating the target variable. On the contrary, a high MSE reflects larger prediction errors, undermining the model's effectiveness in providing accurate predictions.\n",
    "\n",
    "In summary, choosing a machine learning model based on a high R2 and low MSE is advantageous because it ensures that the selected model not only explains a substantial portion of the variability in the target variable but also delivers accurate and precise predictions. These metrics collectively contribute to the reliability and robustness of the chosen model, aligning with the goal of developing an effective machine learning solution for predicting employee salaries.\n",
    "\n",
    "\n",
    "\n",
    "\n",
    "\n"
   ]
  },
  {
   "cell_type": "markdown",
   "id": "b7a4d3e6",
   "metadata": {},
   "source": [
    "After comprehensive evaluation, the models that emerged as optimal choices based on high R2 and low MSE are Random Forest and Gradient Boosting.\n",
    "\n",
    "Random Forest:\n",
    "Random Forest is a robust ensemble learning technique that excels in capturing complex relationships within the data. Its ability to handle both classification and regression tasks, coupled with its ensemble of decision trees, contributes to achieving high accuracy and minimizing overfitting. The aggregation of multiple decision trees allows Random Forest to provide a stable and reliable prediction, leading to a high R2 and low MSE.\n",
    "\n",
    "Gradient Boosting:\n",
    "Gradient Boosting is another powerful ensemble method that sequentially builds a series of weak learners to enhance predictive performance. By iteratively correcting errors of the previous models, Gradient Boosting minimizes bias and variance, resulting in accurate predictions. The combination of boosting and decision trees in Gradient Boosting makes it adept at capturing intricate patterns in the data. Consequently, it exhibits a high R2 and low MSE, signifying superior predictive capabilities.\n",
    "\n",
    "In summary, the choice of Random Forest and Gradient Boosting is grounded in their ensemble nature, which leverages multiple models to mitigate overfitting and enhance predictive accuracy. The unique strengths of each model contribute to achieving a balance between explanatory power (high R2) and precision (low MSE), making them well-suited for predicting employee salaries in the context of this project.\n",
    "\n"
   ]
  },
  {
   "cell_type": "markdown",
   "id": "ac2acfad",
   "metadata": {},
   "source": [
    "## Machine model to predict salary "
   ]
  },
  {
   "cell_type": "markdown",
   "id": "24f344a2",
   "metadata": {},
   "source": [
    "## Random Forest model"
   ]
  },
  {
   "cell_type": "code",
   "execution_count": 245,
   "id": "d4c12013",
   "metadata": {},
   "outputs": [
    {
     "name": "stdout",
     "output_type": "stream",
     "text": [
      "Enter Employee Name: shubham\n",
      "Enter College (1 for Tier 1 college, 2 for TIER 2 COLLEEGE AND 0 FOR TIER 3): 0\n",
      "Enter City (1 for Metro city, 0 for Non metro city): 0\n",
      "Enter Previous CTC: 20000\n",
      "Enter Previous Job Changes: 3\n",
      "Enter Graduation Marks: 50\n",
      "Enter Experience (in months): 3\n",
      "Enter Role Manager (1 for Manager, 0 for Executive): 0\n",
      "Predicted Salary for Employee shubham: ₹69893.96\n"
     ]
    }
   ],
   "source": [
    "# Employee data \n",
    "employee_name = input(\"Enter Employee Name: \")\n",
    "college = int(input(\"Enter College (1 for Tier 1 college, 2 for TIER 2 COLLEEGE AND 0 FOR TIER 3): \"))\n",
    "city = int(input(\"Enter City (1 for Metro city, 0 for Non metro city): \"))\n",
    "previous_ctc = float(input(\"Enter Previous CTC: \"))\n",
    "previous_job_change = int(input(\"Enter Previous Job Changes: \"))\n",
    "graduation_marks = float(input(\"Enter Graduation Marks: \"))\n",
    "exp_months = int(input(\"Enter Experience (in months): \"))\n",
    "role_manager = int(input(\"Enter Role Manager (1 for Manager, 0 for Executive): \"))\n",
    "\n",
    "# Create a DataFrame with user input\n",
    "employee_data = pd.DataFrame({\n",
    "   \n",
    "    'College': [college],\n",
    "    'City': [city],\n",
    "    'Previous CTC': [previous_ctc],\n",
    "    'Previous job change': [previous_job_change],\n",
    "    'Graduation Marks': [graduation_marks],\n",
    "    'EXP (Month)': [exp_months],\n",
    "    'Role_Manager': [role_manager]\n",
    "})\n",
    "\n",
    "# Scale the input data\n",
    "new_employee_scaled = scaler.transform(employee_data)\n",
    "\n",
    "# Make predictions\n",
    "predictions = random_forest_model.predict(new_employee_scaled)\n",
    "\n",
    "# Print predicted salary\n",
    "for i, salary in enumerate(predictions):\n",
    "   print(f\"Predicted Salary for Employee {employee_name}: ₹{salary:.2f}\")\n"
   ]
  },
  {
   "cell_type": "markdown",
   "id": "f371d809",
   "metadata": {},
   "source": [
    "## Gradient Boosting"
   ]
  },
  {
   "cell_type": "code",
   "execution_count": 247,
   "id": "274c809f",
   "metadata": {
    "scrolled": true
   },
   "outputs": [
    {
     "name": "stdout",
     "output_type": "stream",
     "text": [
      "Enter Employee Name: shubham\n",
      "Enter College (1 for Tier 1 college, 2 for TIER 2 COLLEEGE AND 0 FOR TIER 3): 2\n",
      "Enter City (1 for Metro city, 0 for Non metro city): 1\n",
      "Enter Previous CTC: 30000\n",
      "Enter Previous Job Changes: 4\n",
      "Enter Graduation Marks: 55\n",
      "Enter Experience (in months): 9\n",
      "Enter Role Manager (1 for Manager, 0 for Executive): 1\n",
      "Predicted Salary for Employee shubham: ₹73304.94\n"
     ]
    }
   ],
   "source": [
    "# Employee data \n",
    "employee_name = input(\"Enter Employee Name: \")\n",
    "college = int(input(\"Enter College (1 for Tier 1 college, 2 for TIER 2 COLLEEGE AND 0 FOR TIER 3): \"))\n",
    "city = int(input(\"Enter City (1 for Metro city, 0 for Non metro city): \"))\n",
    "previous_ctc = float(input(\"Enter Previous CTC: \"))\n",
    "previous_job_change = int(input(\"Enter Previous Job Changes: \"))\n",
    "graduation_marks = float(input(\"Enter Graduation Marks: \"))\n",
    "exp_months = int(input(\"Enter Experience (in months): \"))\n",
    "role_manager = int(input(\"Enter Role Manager (1 for Manager, 0 for Executive): \"))\n",
    "\n",
    "# Create a DataFrame with user input\n",
    "employee_data = pd.DataFrame({\n",
    "   \n",
    "    'College': [college],\n",
    "    'City': [city],\n",
    "    'Previous CTC': [previous_ctc],\n",
    "    'Previous job change': [previous_job_change],\n",
    "    'Graduation Marks': [graduation_marks],\n",
    "    'EXP (Month)': [exp_months],\n",
    "    'Role_Manager': [role_manager]\n",
    "})\n",
    "\n",
    "# Scale the input data\n",
    "new_employee_scaled = scaler.transform(employee_data)\n",
    "\n",
    "# Make predictions\n",
    "predictions = gbc_reg.predict(new_employee_scaled)\n",
    "\n",
    "# Print predicted salary\n",
    "for i, salary in enumerate(predictions):\n",
    "   print(f\"Predicted Salary for Employee {employee_name}: ₹{salary:.2f}\")\n"
   ]
  },
  {
   "cell_type": "markdown",
   "id": "f7505ad4",
   "metadata": {},
   "source": [
    " "
   ]
  },
  {
   "cell_type": "markdown",
   "id": "57039bd2",
   "metadata": {},
   "source": [
    " "
   ]
  },
  {
   "cell_type": "markdown",
   "id": "6adaa857",
   "metadata": {},
   "source": [
    "# Question 1: Your views about the problem statement?\n",
    "\n",
    "\n",
    "The problem statement addresses a compelling challenge for TechWorks Consulting, focusing on using machine learning to determine the salaries of newly hired employees. This task is critical for a company specializing in IT staffing, like TechWorks Consulting, where attracting and retaining top talent through competitive and fair compensation is paramount.\n",
    "\n",
    "From an educational standpoint, this problem offers a real-world application of machine learning in the HR domain, aligning with the principles taught in the Data Science and Machine Learning courses. The scenario of TechWorks Consulting's unique approach to IT staffing provides context for why predicting salaries accurately is crucial. The company's emphasis on fair compensation, considering factors like experience, qualifications, and market trends, reflects a contemporary and ethical approach to human resource management.\n",
    "\n",
    "Moreover, the project involves regression tasks, providing an opportunity to apply regression models such as Gradient Boosting and Random Forest. The use of statistics in model evaluation underscores the interdisciplinary nature of machine learning, emphasizing the importance of statistical techniques in assessing model performance.\n",
    "\n",
    "In conclusion, the problem statement not only addresses a practical business need for TechWorks Consulting but also serves as an engaging and applicable case study for students learning about machine learning and data science. The completion of this project will empower students to apply their knowledge to real-world challenges in the field of HR and IT staffing.\n",
    "\n"
   ]
  },
  {
   "cell_type": "markdown",
   "id": "4236f416",
   "metadata": {},
   "source": [
    "# Question 2: What will be your approach to solving this task?\n",
    "\n",
    "\n",
    "The approach to solving this task involves the following steps:\n",
    "\n",
    "1. **Data Understanding:**\n",
    "   - Explore and understand the given employee data, including the features and their types.\n",
    "   - Identify the target variable, which is the 'Salary' in this case.\n",
    "\n",
    "2. **Data Preprocessing:**\n",
    "   - Handle missing values, outliers, and categorical variables appropriately.\n",
    "   - Convert categorical variables like 'College' and 'City' into numerical representations.\n",
    "   - Create dummy variables for the 'Role' feature.\n",
    "\n",
    "3. **Exploratory Data Analysis (EDA):**\n",
    "   - Visualize the distribution of salary and other relevant features.\n",
    "   - Identify patterns and relationships between variables.\n",
    "\n",
    "4. **Feature Engineering:**\n",
    "   - Consider creating new features if necessary, based on domain knowledge.\n",
    "   - Evaluate the correlation between features and the target variable.\n",
    "\n",
    "5. **Model Selection:**\n",
    "   - Choose regression models suitable for predicting continuous values.\n",
    "   - Experiment with multiple models, such as Gradient Boosting, Random Forest, and others.\n",
    "\n",
    "6. **Model Training and Evaluation:**\n",
    "   - Split the data into training and testing sets.\n",
    "   - Train the selected models on the training data.\n",
    "   - Evaluate model performance using metrics like Mean Squared Error (MSE) or R-Squared.\n",
    "\n",
    "7. **Model Comparison and Selection:**\n",
    "   - Compare the performance of different models.\n",
    "   - Select the model with the best accuracy and justify the choice.\n",
    "\n",
    "8. **Further Improvements:**\n",
    "   - Discuss potential enhancements to the selected model's performance.\n",
    "   - Explore avenues for fine-tuning hyperparameters or incorporating additional features.\n",
    "\n",
    "\n",
    "\n",
    "\n"
   ]
  },
  {
   "cell_type": "markdown",
   "id": "db2e88a0",
   "metadata": {},
   "source": [
    "# Question 3: What were the available ML model options you had to perform this task?\n",
    "\n",
    "\n",
    "In approaching this task, various machine learning models were considered for predicting employee salaries. The available ML model options included:\n",
    "\n",
    "1. **Linear Regression:**\n",
    "   - A fundamental regression model suitable for establishing relationships between features and continuous target variables.\n",
    "\n",
    "2. **Random Forest:**\n",
    "   - Ensemble model building on decision trees, known for improved accuracy and robustness.\n",
    "\n",
    "3. **Gradient Boosting:**\n",
    "   - Another ensemble method that builds trees sequentially, focusing on correcting errors of the previous models.\n",
    "\n",
    "4. **XGBoost:**\n",
    "   - An optimized and scalable implementation of gradient boosting, often yielding high predictive performance.\n",
    "\n",
    "5. **Lasso and Ridge Regression:**\n",
    "   - Regularized regression techniques useful for feature selection and handling multicollinearity.\n",
    "\n",
    "6. **K-Nearest Neighbors (KNN):**\n",
    "   - A non-parametric method relying on proximity to neighbors for prediction.\n",
    "\n",
    "7. **AdaBoost:**\n",
    "   - Boosting algorithm that combines weak learners to create a strong learner.\n",
    "\n",
    "8. **GridSearchCV:**\n",
    "   - Technique for hyperparameter tuning to optimize model performance.\n",
    "\n",
    "9. **Validation Curve:**\n",
    "   - Useful for visualizing the impact of hyperparameter variations on model performance.\n",
    "\n",
    "The selection of these models was based on their suitability for regression tasks, their ability to handle both linear and non-linear relationships, and their performance in capturing the complexities of salary prediction.\n",
    "\n",
    "\n",
    "\n"
   ]
  },
  {
   "cell_type": "markdown",
   "id": "0ea0e921",
   "metadata": {},
   "source": [
    "# Question 4: Which model’s performance is best and what could be the possible reason for that?\n",
    "\n",
    "\n",
    "The performance comparison between various machine learning models, including Gradient Boosting, Random Forest, K-Nearest Neighbors (KNN), AdaBoost, and others, revealed that Gradient Boosting and Random Forest exhibited the best overall performance.\n",
    "\n",
    "**Possible reasons for the superior performance of Gradient Boosting and Random Forest:**\n",
    "\n",
    "1. **Ensemble Learning:**\n",
    "   - Both Gradient Boosting and Random Forest are ensemble learning techniques, combining multiple models to enhance predictive accuracy. This ensemble approach often results in robust performance.\n",
    "\n",
    "2. **Handling Non-Linearity:**\n",
    "   - Gradient Boosting and Random Forest excel at capturing non-linear relationships in the data, which is crucial in predicting employee salaries where intricate patterns may exist.\n",
    "\n",
    "3. **Robust to Overfitting:**\n",
    "   - These ensemble methods incorporate mechanisms to mitigate overfitting, ensuring better generalization to unseen data and improving overall model performance.\n",
    "\n",
    "4. **Hyperparameter Tuning:**\n",
    "   - Both models were subjected to hyperparameter tuning using techniques like GridSearchCV, optimizing their configurations for the specific problem. This meticulous tuning contributed to their superior performance.\n",
    "\n",
    "5. **Feature Importance:**\n",
    "   - Gradient Boosting and Random Forest inherently provide insights into feature importance, aiding in identifying key factors influencing salary predictions. This interpretability is valuable for understanding the model's decision-making process.\n",
    "\n",
    "In conclusion, the ensemble nature, capacity to handle non-linearity, robustness against overfitting, optimized hyperparameters, and feature interpretability collectively position Gradient Boosting and Random Forest as the top-performing models for predicting employee salaries in this context.\n",
    "\n",
    "\n",
    "\n"
   ]
  },
  {
   "cell_type": "markdown",
   "id": "bc3444dc",
   "metadata": {},
   "source": [
    "# Question 5: What steps can you take to improve this selected model’s performance even further?\n",
    "\n",
    "\n",
    "To enhance the performance of the selected models, Gradient Boosting and Random Forest, several steps can be undertaken:\n",
    "\n",
    "1. **Feature Engineering:**\n",
    "   - Explore additional features or create new ones that may contribute valuable information to the prediction task. Feature engineering could involve interactions between existing features or transforming variables to better align with the underlying relationships.\n",
    "\n",
    "2. **Data Augmentation:**\n",
    "   - Increase the size and diversity of the training dataset through techniques like data augmentation. This can help the models generalize better to various scenarios and improve predictive performance.\n",
    "\n",
    "3. **Fine-Tuning Hyperparameters:**\n",
    "   - Continue refining hyperparameter configurations, leveraging advanced techniques such as Bayesian optimization or more extensive grid searches. Fine-tuning can uncover optimal parameter combinations for even better model performance.\n",
    "\n",
    "4. **Ensemble of Models:**\n",
    "   - Construct an ensemble of diverse models, combining the strengths of different algorithms. Stacking or blending models with complementary characteristics may lead to a more powerful predictive ensemble.\n",
    "\n",
    "5. **Addressing Outliers:**\n",
    "   - Investigate and address outliers in the data that might be adversely affecting model performance. Robust methods for outlier detection or transformations can be applied to mitigate their impact.\n",
    "\n",
    "6. **Regularization Techniques:**\n",
    "   - Implement regularization techniques like dropout (in the case of neural networks) or regularization terms (L1/L2) to prevent overfitting and improve the model's generalization ability.\n",
    "\n",
    "7. **Cross-Validation Strategies:**\n",
    "   - Optimize the cross-validation strategy, considering different folds, to obtain a more reliable estimate of the model's performance. This can help identify potential sources of variability and guide further improvements.\n",
    "\n",
    "8. **Advanced Model Architectures:**\n",
    "   - Explore advanced model architectures, such as deep learning models, if the dataset size and complexity warrant it. Architectures like neural networks may uncover intricate patterns that simpler models might overlook.\n",
    "\n",
    "9. **Monitoring and Updating:**\n",
    "   - Regularly monitor model performance and update the model as new data becomes available. This ensures the model remains relevant and adaptive to changing patterns in the data.\n",
    "\n",
    "By systematically addressing these aspects, the performance of the selected models can be fine-tuned and improved, ultimately leading to more accurate predictions of employee salaries.\n",
    "\n"
   ]
  },
  {
   "cell_type": "code",
   "execution_count": null,
   "id": "f4540bbe",
   "metadata": {},
   "outputs": [],
   "source": []
  },
  {
   "cell_type": "code",
   "execution_count": null,
   "id": "7297c251",
   "metadata": {},
   "outputs": [],
   "source": []
  }
 ],
 "metadata": {
  "kernelspec": {
   "display_name": "Python 3 (ipykernel)",
   "language": "python",
   "name": "python3"
  },
  "language_info": {
   "codemirror_mode": {
    "name": "ipython",
    "version": 3
   },
   "file_extension": ".py",
   "mimetype": "text/x-python",
   "name": "python",
   "nbconvert_exporter": "python",
   "pygments_lexer": "ipython3",
   "version": "3.11.5"
  }
 },
 "nbformat": 4,
 "nbformat_minor": 5
}
